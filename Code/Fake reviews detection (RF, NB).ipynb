{
 "cells": [
  {
   "cell_type": "code",
   "execution_count": null,
   "id": "911b70fb",
   "metadata": {},
   "outputs": [],
   "source": []
  },
  {
   "cell_type": "code",
   "execution_count": 1,
   "id": "generous-judge",
   "metadata": {},
   "outputs": [],
   "source": [
    "import pandas as pd\n",
    "import numpy as np\n",
    "from datetime import datetime\n",
    "from nltk.corpus import stopwords\n",
    "from nltk.tokenize import RegexpTokenizer\n",
    "from collections import OrderedDict\n",
    "from sklearn.feature_extraction.text import TfidfVectorizer\n",
    "from sklearn.metrics import accuracy_score, recall_score, precision_score, f1_score, pairwise_distances\n",
    "import matplotlib.pyplot as plt\n",
    "import seaborn as sns\n",
    "\n",
    "from sklearn.ensemble import RandomForestClassifier\n",
    "from sklearn.feature_extraction.text import TfidfVectorizer\n",
    "from sklearn.model_selection import train_test_split\n",
    "from time import time\n",
    "from sklearn.naive_bayes import GaussianNB\n",
    "from sklearn.metrics import plot_confusion_matrix\n",
    "from sklearn.metrics import confusion_matrix\n",
    "from sklearn.model_selection import GridSearchCV\n",
    "from tqdm import tqdm\n",
    "\n",
    "from sklearn.metrics import mean_squared_error\n",
    "from sklearn.metrics import mean_absolute_error"
   ]
  },
  {
   "cell_type": "code",
   "execution_count": 2,
   "id": "advised-problem",
   "metadata": {
    "scrolled": true
   },
   "outputs": [
    {
     "data": {
      "text/html": [
       "<div>\n",
       "<style scoped>\n",
       "    .dataframe tbody tr th:only-of-type {\n",
       "        vertical-align: middle;\n",
       "    }\n",
       "\n",
       "    .dataframe tbody tr th {\n",
       "        vertical-align: top;\n",
       "    }\n",
       "\n",
       "    .dataframe thead th {\n",
       "        text-align: right;\n",
       "    }\n",
       "</style>\n",
       "<table border=\"1\" class=\"dataframe\">\n",
       "  <thead>\n",
       "    <tr style=\"text-align: right;\">\n",
       "      <th></th>\n",
       "      <th>Id</th>\n",
       "      <th>ProductId</th>\n",
       "      <th>UserId</th>\n",
       "      <th>ProfileName</th>\n",
       "      <th>HelpfulnessNumerator</th>\n",
       "      <th>HelpfulnessDenominator</th>\n",
       "      <th>Score</th>\n",
       "      <th>Time</th>\n",
       "      <th>Summary</th>\n",
       "      <th>Text</th>\n",
       "    </tr>\n",
       "  </thead>\n",
       "  <tbody>\n",
       "    <tr>\n",
       "      <th>0</th>\n",
       "      <td>1</td>\n",
       "      <td>B001E4KFG0</td>\n",
       "      <td>A3SGXH7AUHU8GW</td>\n",
       "      <td>delmartian</td>\n",
       "      <td>1</td>\n",
       "      <td>1</td>\n",
       "      <td>5</td>\n",
       "      <td>1303862400</td>\n",
       "      <td>Good Quality Dog Food</td>\n",
       "      <td>I have bought several of the Vitality canned d...</td>\n",
       "    </tr>\n",
       "    <tr>\n",
       "      <th>1</th>\n",
       "      <td>2</td>\n",
       "      <td>B00813GRG4</td>\n",
       "      <td>A1D87F6ZCVE5NK</td>\n",
       "      <td>dll pa</td>\n",
       "      <td>0</td>\n",
       "      <td>0</td>\n",
       "      <td>1</td>\n",
       "      <td>1346976000</td>\n",
       "      <td>Not as Advertised</td>\n",
       "      <td>Product arrived labeled as Jumbo Salted Peanut...</td>\n",
       "    </tr>\n",
       "    <tr>\n",
       "      <th>2</th>\n",
       "      <td>3</td>\n",
       "      <td>B000LQOCH0</td>\n",
       "      <td>ABXLMWJIXXAIN</td>\n",
       "      <td>Natalia Corres \"Natalia Corres\"</td>\n",
       "      <td>1</td>\n",
       "      <td>1</td>\n",
       "      <td>4</td>\n",
       "      <td>1219017600</td>\n",
       "      <td>\"Delight\" says it all</td>\n",
       "      <td>This is a confection that has been around a fe...</td>\n",
       "    </tr>\n",
       "    <tr>\n",
       "      <th>3</th>\n",
       "      <td>4</td>\n",
       "      <td>B000UA0QIQ</td>\n",
       "      <td>A395BORC6FGVXV</td>\n",
       "      <td>Karl</td>\n",
       "      <td>3</td>\n",
       "      <td>3</td>\n",
       "      <td>2</td>\n",
       "      <td>1307923200</td>\n",
       "      <td>Cough Medicine</td>\n",
       "      <td>If you are looking for the secret ingredient i...</td>\n",
       "    </tr>\n",
       "    <tr>\n",
       "      <th>4</th>\n",
       "      <td>5</td>\n",
       "      <td>B006K2ZZ7K</td>\n",
       "      <td>A1UQRSCLF8GW1T</td>\n",
       "      <td>Michael D. Bigham \"M. Wassir\"</td>\n",
       "      <td>0</td>\n",
       "      <td>0</td>\n",
       "      <td>5</td>\n",
       "      <td>1350777600</td>\n",
       "      <td>Great taffy</td>\n",
       "      <td>Great taffy at a great price.  There was a wid...</td>\n",
       "    </tr>\n",
       "  </tbody>\n",
       "</table>\n",
       "</div>"
      ],
      "text/plain": [
       "   Id   ProductId          UserId                      ProfileName  \\\n",
       "0   1  B001E4KFG0  A3SGXH7AUHU8GW                       delmartian   \n",
       "1   2  B00813GRG4  A1D87F6ZCVE5NK                           dll pa   \n",
       "2   3  B000LQOCH0   ABXLMWJIXXAIN  Natalia Corres \"Natalia Corres\"   \n",
       "3   4  B000UA0QIQ  A395BORC6FGVXV                             Karl   \n",
       "4   5  B006K2ZZ7K  A1UQRSCLF8GW1T    Michael D. Bigham \"M. Wassir\"   \n",
       "\n",
       "   HelpfulnessNumerator  HelpfulnessDenominator  Score        Time  \\\n",
       "0                     1                       1      5  1303862400   \n",
       "1                     0                       0      1  1346976000   \n",
       "2                     1                       1      4  1219017600   \n",
       "3                     3                       3      2  1307923200   \n",
       "4                     0                       0      5  1350777600   \n",
       "\n",
       "                 Summary                                               Text  \n",
       "0  Good Quality Dog Food  I have bought several of the Vitality canned d...  \n",
       "1      Not as Advertised  Product arrived labeled as Jumbo Salted Peanut...  \n",
       "2  \"Delight\" says it all  This is a confection that has been around a fe...  \n",
       "3         Cough Medicine  If you are looking for the secret ingredient i...  \n",
       "4            Great taffy  Great taffy at a great price.  There was a wid...  "
      ]
     },
     "execution_count": 2,
     "metadata": {},
     "output_type": "execute_result"
    }
   ],
   "source": [
    "df1 = pd.read_csv('foodreviews.csv')\n",
    "df = df1.head(100000)\n",
    "df.head(5)"
   ]
  },
  {
   "cell_type": "code",
   "execution_count": 3,
   "id": "swedish-table",
   "metadata": {},
   "outputs": [
    {
     "name": "stdout",
     "output_type": "stream",
     "text": [
      "<class 'pandas.core.frame.DataFrame'>\n",
      "RangeIndex: 100000 entries, 0 to 99999\n",
      "Data columns (total 10 columns):\n",
      " #   Column                  Non-Null Count   Dtype \n",
      "---  ------                  --------------   ----- \n",
      " 0   Id                      100000 non-null  int64 \n",
      " 1   ProductId               100000 non-null  object\n",
      " 2   UserId                  100000 non-null  object\n",
      " 3   ProfileName             99996 non-null   object\n",
      " 4   HelpfulnessNumerator    100000 non-null  int64 \n",
      " 5   HelpfulnessDenominator  100000 non-null  int64 \n",
      " 6   Score                   100000 non-null  int64 \n",
      " 7   Time                    100000 non-null  int64 \n",
      " 8   Summary                 99998 non-null   object\n",
      " 9   Text                    100000 non-null  object\n",
      "dtypes: int64(5), object(5)\n",
      "memory usage: 7.6+ MB\n"
     ]
    }
   ],
   "source": [
    "df.info()"
   ]
  },
  {
   "cell_type": "code",
   "execution_count": 4,
   "id": "express-belarus",
   "metadata": {},
   "outputs": [
    {
     "data": {
      "text/plain": [
       "(100000, 10)"
      ]
     },
     "execution_count": 4,
     "metadata": {},
     "output_type": "execute_result"
    }
   ],
   "source": [
    "df.shape"
   ]
  },
  {
   "cell_type": "code",
   "execution_count": 5,
   "id": "demanding-compound",
   "metadata": {},
   "outputs": [],
   "source": [
    "# print(\"------------- Cleaning Data -------------\")\n",
    "# # Removing \\n from date field\n",
    "# for i in range(len(df['date'])):\n",
    "#     if df['date'][i][0] == '\\n' and  df['date'][i][0] == ' ':\n",
    "#         df['date'][i] = df['date'][i][1:]"
   ]
  },
  {
   "cell_type": "markdown",
   "id": "applicable-villa",
   "metadata": {},
   "source": [
    "df['date'] = df['date'].apply(\n",
    "    lambda x: datetime.strftime(datetime.strptime(x, '%B/%d/%y'), '%m/01/%Y'))"
   ]
  },
  {
   "cell_type": "code",
   "execution_count": 6,
   "id": "instrumental-class",
   "metadata": {},
   "outputs": [],
   "source": [
    "# df['date']"
   ]
  },
  {
   "cell_type": "markdown",
   "id": "exclusive-indonesian",
   "metadata": {},
   "source": [
    "### Making date formate uniform"
   ]
  },
  {
   "cell_type": "code",
   "execution_count": 7,
   "id": "active-exhaust",
   "metadata": {},
   "outputs": [],
   "source": [
    "# df['date'] = df['date'].apply(lambda x: datetime.strftime(datetime.strptime(x, '%d-%b-%y'), '01/%m/%Y'))"
   ]
  },
  {
   "cell_type": "markdown",
   "id": "critical-outline",
   "metadata": {},
   "source": [
    "### Pre-processing Text Reviews"
   ]
  },
  {
   "cell_type": "markdown",
   "id": "alpine-macro",
   "metadata": {},
   "source": [
    "#### Stop Words Cleaning\n",
    "#### Stop words are the words which are used the most yet they hold no value. Common examples of the stop words are (an, a, the, this). Here, all data are goinig to be cleaned from stop words before going forward in the fake reviews detection process."
   ]
  },
  {
   "cell_type": "code",
   "execution_count": 8,
   "id": "necessary-property",
   "metadata": {},
   "outputs": [
    {
     "name": "stderr",
     "output_type": "stream",
     "text": [
      "C:\\Users\\HP\\AppData\\Local\\Temp/ipykernel_15748/2964281402.py:3: SettingWithCopyWarning: \n",
      "A value is trying to be set on a copy of a slice from a DataFrame.\n",
      "Try using .loc[row_indexer,col_indexer] = value instead\n",
      "\n",
      "See the caveats in the documentation: https://pandas.pydata.org/pandas-docs/stable/user_guide/indexing.html#returning-a-view-versus-a-copy\n",
      "  df['Text'] = df['Text'].apply(\n"
     ]
    }
   ],
   "source": [
    "# Remove Stop Words\n",
    "stop = stopwords.words('english')\n",
    "df['Text'] = df['Text'].apply(\n",
    "        lambda x: ' '.join(word for word in x.split() if word not in stop))"
   ]
  },
  {
   "cell_type": "markdown",
   "id": "honest-fiction",
   "metadata": {},
   "source": [
    "#### Tokenization \n",
    "#### Tokenization is one of the most common natural language processing techniques. It is a basic step before applying any other preprocessing techniques. The text is divided into individual words called tokens. For example, if we have a sentence (“wearing helmets is a must for pedal cyclists”), tokenization will divide it into the following tokens (“wearing” , “helmets” , “is” , “a”, “must”, “for” , “pedal” , “cyclists”)"
   ]
  },
  {
   "cell_type": "code",
   "execution_count": 9,
   "id": "developing-shield",
   "metadata": {},
   "outputs": [
    {
     "name": "stderr",
     "output_type": "stream",
     "text": [
      "C:\\Users\\HP\\AppData\\Local\\Temp/ipykernel_15748/810472690.py:2: SettingWithCopyWarning: \n",
      "A value is trying to be set on a copy of a slice from a DataFrame.\n",
      "Try using .loc[row_indexer,col_indexer] = value instead\n",
      "\n",
      "See the caveats in the documentation: https://pandas.pydata.org/pandas-docs/stable/user_guide/indexing.html#returning-a-view-versus-a-copy\n",
      "  df['Text'] = df['Text'].apply(lambda x: ' '.join(word for word in tokenizer.tokenize(x)))\n"
     ]
    }
   ],
   "source": [
    "tokenizer = RegexpTokenizer(r'\\w+')\n",
    "df['Text'] = df['Text'].apply(lambda x: ' '.join(word for word in tokenizer.tokenize(x)))"
   ]
  },
  {
   "cell_type": "markdown",
   "id": "boolean-destruction",
   "metadata": {},
   "source": [
    "#### Lowercase Words"
   ]
  },
  {
   "cell_type": "code",
   "execution_count": 10,
   "id": "thousand-harvest",
   "metadata": {},
   "outputs": [
    {
     "name": "stderr",
     "output_type": "stream",
     "text": [
      "C:\\Users\\HP\\AppData\\Local\\Temp/ipykernel_15748/2357364799.py:1: SettingWithCopyWarning: \n",
      "A value is trying to be set on a copy of a slice from a DataFrame.\n",
      "Try using .loc[row_indexer,col_indexer] = value instead\n",
      "\n",
      "See the caveats in the documentation: https://pandas.pydata.org/pandas-docs/stable/user_guide/indexing.html#returning-a-view-versus-a-copy\n",
      "  df['Text'] = df['Text'].apply(lambda x: x.lower())\n"
     ]
    }
   ],
   "source": [
    "df['Text'] = df['Text'].apply(lambda x: x.lower())"
   ]
  },
  {
   "cell_type": "markdown",
   "id": "indoor-frost",
   "metadata": {},
   "source": [
    "### Feature Engineering"
   ]
  },
  {
   "cell_type": "markdown",
   "id": "boxed-pressing",
   "metadata": {},
   "source": [
    "#### Feature engineering for creating new features"
   ]
  },
  {
   "cell_type": "code",
   "execution_count": 11,
   "id": "happy-balloon",
   "metadata": {},
   "outputs": [],
   "source": [
    "# Maximum Number of Reviews per day per reviewer\n",
    "mnr_df1 = df[['UserId', 'Time']].copy()\n",
    "mnr_df2 = mnr_df1.groupby(by=['Time', 'UserId']).size().reset_index(name='mnr')\n",
    "\n",
    "mnr_df2['mnr'] = mnr_df2['mnr'] / mnr_df2['mnr'].max()\n",
    "df = df.merge(mnr_df2, on=['UserId', 'Time'], how='inner')"
   ]
  },
  {
   "cell_type": "code",
   "execution_count": 12,
   "id": "growing-traffic",
   "metadata": {},
   "outputs": [],
   "source": [
    "# Review Length\n",
    "df['rl'] = df['Text'].apply(\n",
    "    lambda x: len(x.split()))"
   ]
  },
  {
   "cell_type": "code",
   "execution_count": 13,
   "id": "operational-triangle",
   "metadata": {},
   "outputs": [
    {
     "data": {
      "text/html": [
       "<div>\n",
       "<style scoped>\n",
       "    .dataframe tbody tr th:only-of-type {\n",
       "        vertical-align: middle;\n",
       "    }\n",
       "\n",
       "    .dataframe tbody tr th {\n",
       "        vertical-align: top;\n",
       "    }\n",
       "\n",
       "    .dataframe thead th {\n",
       "        text-align: right;\n",
       "    }\n",
       "</style>\n",
       "<table border=\"1\" class=\"dataframe\">\n",
       "  <thead>\n",
       "    <tr style=\"text-align: right;\">\n",
       "      <th></th>\n",
       "      <th>Id</th>\n",
       "      <th>ProductId</th>\n",
       "      <th>UserId</th>\n",
       "      <th>ProfileName</th>\n",
       "      <th>HelpfulnessNumerator</th>\n",
       "      <th>HelpfulnessDenominator</th>\n",
       "      <th>Score</th>\n",
       "      <th>Time</th>\n",
       "      <th>Summary</th>\n",
       "      <th>Text</th>\n",
       "      <th>mnr</th>\n",
       "      <th>rl</th>\n",
       "    </tr>\n",
       "  </thead>\n",
       "  <tbody>\n",
       "    <tr>\n",
       "      <th>0</th>\n",
       "      <td>1</td>\n",
       "      <td>B001E4KFG0</td>\n",
       "      <td>A3SGXH7AUHU8GW</td>\n",
       "      <td>delmartian</td>\n",
       "      <td>1</td>\n",
       "      <td>1</td>\n",
       "      <td>5</td>\n",
       "      <td>1303862400</td>\n",
       "      <td>Good Quality Dog Food</td>\n",
       "      <td>i bought several vitality canned dog food prod...</td>\n",
       "      <td>0.028571</td>\n",
       "      <td>27</td>\n",
       "    </tr>\n",
       "    <tr>\n",
       "      <th>1</th>\n",
       "      <td>2</td>\n",
       "      <td>B00813GRG4</td>\n",
       "      <td>A1D87F6ZCVE5NK</td>\n",
       "      <td>dll pa</td>\n",
       "      <td>0</td>\n",
       "      <td>0</td>\n",
       "      <td>1</td>\n",
       "      <td>1346976000</td>\n",
       "      <td>Not as Advertised</td>\n",
       "      <td>product arrived labeled jumbo salted peanuts t...</td>\n",
       "      <td>0.028571</td>\n",
       "      <td>20</td>\n",
       "    </tr>\n",
       "    <tr>\n",
       "      <th>2</th>\n",
       "      <td>3</td>\n",
       "      <td>B000LQOCH0</td>\n",
       "      <td>ABXLMWJIXXAIN</td>\n",
       "      <td>Natalia Corres \"Natalia Corres\"</td>\n",
       "      <td>1</td>\n",
       "      <td>1</td>\n",
       "      <td>4</td>\n",
       "      <td>1219017600</td>\n",
       "      <td>\"Delight\" says it all</td>\n",
       "      <td>this confection around centuries it light pill...</td>\n",
       "      <td>0.028571</td>\n",
       "      <td>51</td>\n",
       "    </tr>\n",
       "    <tr>\n",
       "      <th>3</th>\n",
       "      <td>4</td>\n",
       "      <td>B000UA0QIQ</td>\n",
       "      <td>A395BORC6FGVXV</td>\n",
       "      <td>Karl</td>\n",
       "      <td>3</td>\n",
       "      <td>3</td>\n",
       "      <td>2</td>\n",
       "      <td>1307923200</td>\n",
       "      <td>Cough Medicine</td>\n",
       "      <td>if looking secret ingredient robitussin i beli...</td>\n",
       "      <td>0.028571</td>\n",
       "      <td>26</td>\n",
       "    </tr>\n",
       "    <tr>\n",
       "      <th>4</th>\n",
       "      <td>5</td>\n",
       "      <td>B006K2ZZ7K</td>\n",
       "      <td>A1UQRSCLF8GW1T</td>\n",
       "      <td>Michael D. Bigham \"M. Wassir\"</td>\n",
       "      <td>0</td>\n",
       "      <td>0</td>\n",
       "      <td>5</td>\n",
       "      <td>1350777600</td>\n",
       "      <td>Great taffy</td>\n",
       "      <td>great taffy great price there wide assortment ...</td>\n",
       "      <td>0.028571</td>\n",
       "      <td>15</td>\n",
       "    </tr>\n",
       "  </tbody>\n",
       "</table>\n",
       "</div>"
      ],
      "text/plain": [
       "   Id   ProductId          UserId                      ProfileName  \\\n",
       "0   1  B001E4KFG0  A3SGXH7AUHU8GW                       delmartian   \n",
       "1   2  B00813GRG4  A1D87F6ZCVE5NK                           dll pa   \n",
       "2   3  B000LQOCH0   ABXLMWJIXXAIN  Natalia Corres \"Natalia Corres\"   \n",
       "3   4  B000UA0QIQ  A395BORC6FGVXV                             Karl   \n",
       "4   5  B006K2ZZ7K  A1UQRSCLF8GW1T    Michael D. Bigham \"M. Wassir\"   \n",
       "\n",
       "   HelpfulnessNumerator  HelpfulnessDenominator  Score        Time  \\\n",
       "0                     1                       1      5  1303862400   \n",
       "1                     0                       0      1  1346976000   \n",
       "2                     1                       1      4  1219017600   \n",
       "3                     3                       3      2  1307923200   \n",
       "4                     0                       0      5  1350777600   \n",
       "\n",
       "                 Summary                                               Text  \\\n",
       "0  Good Quality Dog Food  i bought several vitality canned dog food prod...   \n",
       "1      Not as Advertised  product arrived labeled jumbo salted peanuts t...   \n",
       "2  \"Delight\" says it all  this confection around centuries it light pill...   \n",
       "3         Cough Medicine  if looking secret ingredient robitussin i beli...   \n",
       "4            Great taffy  great taffy great price there wide assortment ...   \n",
       "\n",
       "        mnr  rl  \n",
       "0  0.028571  27  \n",
       "1  0.028571  20  \n",
       "2  0.028571  51  \n",
       "3  0.028571  26  \n",
       "4  0.028571  15  "
      ]
     },
     "execution_count": 13,
     "metadata": {},
     "output_type": "execute_result"
    }
   ],
   "source": [
    "df.head(5)"
   ]
  },
  {
   "cell_type": "code",
   "execution_count": 14,
   "id": "urban-consistency",
   "metadata": {},
   "outputs": [],
   "source": [
    "# Maximum cosine similarity\n",
    "review_data = df"
   ]
  },
  {
   "cell_type": "code",
   "execution_count": 15,
   "id": "ranking-union",
   "metadata": {},
   "outputs": [],
   "source": [
    "res = OrderedDict()"
   ]
  },
  {
   "cell_type": "code",
   "execution_count": 16,
   "id": "breeding-bouquet",
   "metadata": {},
   "outputs": [],
   "source": [
    "# Iterate over data and create groups of reviewers\n",
    "for row in review_data.iterrows():\n",
    "    if row[1].UserId in res:\n",
    "        res[row[1].UserId].append(row[1].Text)\n",
    "    else:\n",
    "        res[row[1].UserId] = [row[1].Text]\n",
    "    "
   ]
  },
  {
   "cell_type": "code",
   "execution_count": 17,
   "id": "concerned-celebrity",
   "metadata": {},
   "outputs": [],
   "source": [
    "individual_reviewer = [{'UserId': k, 'Text': v} for k, v in res.items()]"
   ]
  },
  {
   "cell_type": "code",
   "execution_count": 18,
   "id": "danish-given",
   "metadata": {},
   "outputs": [
    {
     "name": "stderr",
     "output_type": "stream",
     "text": [
      "C:\\Users\\HP\\AppData\\Local\\Temp/ipykernel_15748/497165795.py:2: DeprecationWarning: The default dtype for empty Series will be 'object' instead of 'float64' in a future version. Specify a dtype explicitly to silence this warning.\n",
      "  df2['UserId'] = pd.Series([])\n",
      "C:\\Users\\HP\\AppData\\Local\\Temp/ipykernel_15748/497165795.py:3: DeprecationWarning: The default dtype for empty Series will be 'object' instead of 'float64' in a future version. Specify a dtype explicitly to silence this warning.\n",
      "  df2['Maximum Content Similarity'] = pd.Series([])\n"
     ]
    }
   ],
   "source": [
    "df2 = dict()\n",
    "df2['UserId'] = pd.Series([])\n",
    "df2['Maximum Content Similarity'] = pd.Series([])\n",
    "vector = TfidfVectorizer(min_df=0)"
   ]
  },
  {
   "cell_type": "code",
   "execution_count": 19,
   "id": "fuzzy-healthcare",
   "metadata": {},
   "outputs": [],
   "source": [
    "count = -1\n",
    "for reviewer_data in individual_reviewer:\n",
    "    count = count + 1\n",
    "    # Handle Null/single review gracefully -24-Apr-2019\n",
    "    try:\n",
    "        tfidf = vector.fit_transform(reviewer_data['Text'])\n",
    "    except:\n",
    "        pass\n",
    "    cosine = 1 - pairwise_distances(tfidf, metric='cosine')\n",
    "\n",
    "    np.fill_diagonal(cosine, -np.inf)\n",
    "    max = cosine.max()\n",
    "\n",
    "    # To handle reviewier with just 1 review\n",
    "    if max == -np.inf:\n",
    "        max = 0\n",
    "    df2['UserId'][count] = reviewer_data['UserId']\n",
    "    df2['Maximum Content Similarity'][count] = max\n",
    "\n",
    "\n",
    "    df3 = pd.DataFrame(df2, columns=['UserId', 'Maximum Content Similarity'])"
   ]
  },
  {
   "cell_type": "code",
   "execution_count": 20,
   "id": "wooden-helping",
   "metadata": {},
   "outputs": [
    {
     "name": "stdout",
     "output_type": "stream",
     "text": [
      "Feature Engineering Complete\n"
     ]
    }
   ],
   "source": [
    "# left outer join on original datamatrix and cosine dataframe -24-Apr-2019\n",
    "df = pd.merge(review_data, df3, on=\"UserId\", how=\"left\")\n",
    "\n",
    "df.drop(index=np.where(pd.isnull(df))[0], axis=0, inplace=True)\n",
    "print(\"Feature Engineering Complete\")"
   ]
  },
  {
   "cell_type": "code",
   "execution_count": 21,
   "id": "entitled-italic",
   "metadata": {},
   "outputs": [
    {
     "data": {
      "text/html": [
       "<div>\n",
       "<style scoped>\n",
       "    .dataframe tbody tr th:only-of-type {\n",
       "        vertical-align: middle;\n",
       "    }\n",
       "\n",
       "    .dataframe tbody tr th {\n",
       "        vertical-align: top;\n",
       "    }\n",
       "\n",
       "    .dataframe thead th {\n",
       "        text-align: right;\n",
       "    }\n",
       "</style>\n",
       "<table border=\"1\" class=\"dataframe\">\n",
       "  <thead>\n",
       "    <tr style=\"text-align: right;\">\n",
       "      <th></th>\n",
       "      <th>Id</th>\n",
       "      <th>ProductId</th>\n",
       "      <th>UserId</th>\n",
       "      <th>ProfileName</th>\n",
       "      <th>HelpfulnessNumerator</th>\n",
       "      <th>HelpfulnessDenominator</th>\n",
       "      <th>Score</th>\n",
       "      <th>Time</th>\n",
       "      <th>Summary</th>\n",
       "      <th>Text</th>\n",
       "      <th>mnr</th>\n",
       "      <th>rl</th>\n",
       "      <th>Maximum Content Similarity</th>\n",
       "    </tr>\n",
       "  </thead>\n",
       "  <tbody>\n",
       "    <tr>\n",
       "      <th>0</th>\n",
       "      <td>1</td>\n",
       "      <td>B001E4KFG0</td>\n",
       "      <td>A3SGXH7AUHU8GW</td>\n",
       "      <td>delmartian</td>\n",
       "      <td>1</td>\n",
       "      <td>1</td>\n",
       "      <td>5</td>\n",
       "      <td>1303862400</td>\n",
       "      <td>Good Quality Dog Food</td>\n",
       "      <td>i bought several vitality canned dog food prod...</td>\n",
       "      <td>0.028571</td>\n",
       "      <td>27</td>\n",
       "      <td>0.0</td>\n",
       "    </tr>\n",
       "    <tr>\n",
       "      <th>1</th>\n",
       "      <td>2</td>\n",
       "      <td>B00813GRG4</td>\n",
       "      <td>A1D87F6ZCVE5NK</td>\n",
       "      <td>dll pa</td>\n",
       "      <td>0</td>\n",
       "      <td>0</td>\n",
       "      <td>1</td>\n",
       "      <td>1346976000</td>\n",
       "      <td>Not as Advertised</td>\n",
       "      <td>product arrived labeled jumbo salted peanuts t...</td>\n",
       "      <td>0.028571</td>\n",
       "      <td>20</td>\n",
       "      <td>0.0</td>\n",
       "    </tr>\n",
       "    <tr>\n",
       "      <th>2</th>\n",
       "      <td>3</td>\n",
       "      <td>B000LQOCH0</td>\n",
       "      <td>ABXLMWJIXXAIN</td>\n",
       "      <td>Natalia Corres \"Natalia Corres\"</td>\n",
       "      <td>1</td>\n",
       "      <td>1</td>\n",
       "      <td>4</td>\n",
       "      <td>1219017600</td>\n",
       "      <td>\"Delight\" says it all</td>\n",
       "      <td>this confection around centuries it light pill...</td>\n",
       "      <td>0.028571</td>\n",
       "      <td>51</td>\n",
       "      <td>0.0</td>\n",
       "    </tr>\n",
       "    <tr>\n",
       "      <th>3</th>\n",
       "      <td>4</td>\n",
       "      <td>B000UA0QIQ</td>\n",
       "      <td>A395BORC6FGVXV</td>\n",
       "      <td>Karl</td>\n",
       "      <td>3</td>\n",
       "      <td>3</td>\n",
       "      <td>2</td>\n",
       "      <td>1307923200</td>\n",
       "      <td>Cough Medicine</td>\n",
       "      <td>if looking secret ingredient robitussin i beli...</td>\n",
       "      <td>0.028571</td>\n",
       "      <td>26</td>\n",
       "      <td>0.0</td>\n",
       "    </tr>\n",
       "    <tr>\n",
       "      <th>4</th>\n",
       "      <td>5</td>\n",
       "      <td>B006K2ZZ7K</td>\n",
       "      <td>A1UQRSCLF8GW1T</td>\n",
       "      <td>Michael D. Bigham \"M. Wassir\"</td>\n",
       "      <td>0</td>\n",
       "      <td>0</td>\n",
       "      <td>5</td>\n",
       "      <td>1350777600</td>\n",
       "      <td>Great taffy</td>\n",
       "      <td>great taffy great price there wide assortment ...</td>\n",
       "      <td>0.028571</td>\n",
       "      <td>15</td>\n",
       "      <td>0.0</td>\n",
       "    </tr>\n",
       "  </tbody>\n",
       "</table>\n",
       "</div>"
      ],
      "text/plain": [
       "   Id   ProductId          UserId                      ProfileName  \\\n",
       "0   1  B001E4KFG0  A3SGXH7AUHU8GW                       delmartian   \n",
       "1   2  B00813GRG4  A1D87F6ZCVE5NK                           dll pa   \n",
       "2   3  B000LQOCH0   ABXLMWJIXXAIN  Natalia Corres \"Natalia Corres\"   \n",
       "3   4  B000UA0QIQ  A395BORC6FGVXV                             Karl   \n",
       "4   5  B006K2ZZ7K  A1UQRSCLF8GW1T    Michael D. Bigham \"M. Wassir\"   \n",
       "\n",
       "   HelpfulnessNumerator  HelpfulnessDenominator  Score        Time  \\\n",
       "0                     1                       1      5  1303862400   \n",
       "1                     0                       0      1  1346976000   \n",
       "2                     1                       1      4  1219017600   \n",
       "3                     3                       3      2  1307923200   \n",
       "4                     0                       0      5  1350777600   \n",
       "\n",
       "                 Summary                                               Text  \\\n",
       "0  Good Quality Dog Food  i bought several vitality canned dog food prod...   \n",
       "1      Not as Advertised  product arrived labeled jumbo salted peanuts t...   \n",
       "2  \"Delight\" says it all  this confection around centuries it light pill...   \n",
       "3         Cough Medicine  if looking secret ingredient robitussin i beli...   \n",
       "4            Great taffy  great taffy great price there wide assortment ...   \n",
       "\n",
       "        mnr  rl  Maximum Content Similarity  \n",
       "0  0.028571  27                         0.0  \n",
       "1  0.028571  20                         0.0  \n",
       "2  0.028571  51                         0.0  \n",
       "3  0.028571  26                         0.0  \n",
       "4  0.028571  15                         0.0  "
      ]
     },
     "execution_count": 21,
     "metadata": {},
     "output_type": "execute_result"
    }
   ],
   "source": [
    "df.head(5)"
   ]
  },
  {
   "cell_type": "code",
   "execution_count": 22,
   "id": "fossil-quarter",
   "metadata": {},
   "outputs": [
    {
     "data": {
      "text/html": [
       "<div>\n",
       "<style scoped>\n",
       "    .dataframe tbody tr th:only-of-type {\n",
       "        vertical-align: middle;\n",
       "    }\n",
       "\n",
       "    .dataframe tbody tr th {\n",
       "        vertical-align: top;\n",
       "    }\n",
       "\n",
       "    .dataframe thead th {\n",
       "        text-align: right;\n",
       "    }\n",
       "</style>\n",
       "<table border=\"1\" class=\"dataframe\">\n",
       "  <thead>\n",
       "    <tr style=\"text-align: right;\">\n",
       "      <th></th>\n",
       "      <th>Id</th>\n",
       "      <th>ProductId</th>\n",
       "      <th>UserId</th>\n",
       "      <th>ProfileName</th>\n",
       "      <th>HelpfulnessNumerator</th>\n",
       "      <th>HelpfulnessDenominator</th>\n",
       "      <th>Score</th>\n",
       "      <th>Time</th>\n",
       "      <th>Summary</th>\n",
       "      <th>Text</th>\n",
       "      <th>mnr</th>\n",
       "      <th>rl</th>\n",
       "      <th>Maximum Content Similarity</th>\n",
       "    </tr>\n",
       "  </thead>\n",
       "  <tbody>\n",
       "    <tr>\n",
       "      <th>0</th>\n",
       "      <td>1</td>\n",
       "      <td>B001E4KFG0</td>\n",
       "      <td>A3SGXH7AUHU8GW</td>\n",
       "      <td>delmartian</td>\n",
       "      <td>1</td>\n",
       "      <td>1</td>\n",
       "      <td>5</td>\n",
       "      <td>1303862400</td>\n",
       "      <td>Good Quality Dog Food</td>\n",
       "      <td>i bought several vitality canned dog food prod...</td>\n",
       "      <td>0.028571</td>\n",
       "      <td>27</td>\n",
       "      <td>0.0</td>\n",
       "    </tr>\n",
       "    <tr>\n",
       "      <th>1</th>\n",
       "      <td>2</td>\n",
       "      <td>B00813GRG4</td>\n",
       "      <td>A1D87F6ZCVE5NK</td>\n",
       "      <td>dll pa</td>\n",
       "      <td>0</td>\n",
       "      <td>0</td>\n",
       "      <td>1</td>\n",
       "      <td>1346976000</td>\n",
       "      <td>Not as Advertised</td>\n",
       "      <td>product arrived labeled jumbo salted peanuts t...</td>\n",
       "      <td>0.028571</td>\n",
       "      <td>20</td>\n",
       "      <td>0.0</td>\n",
       "    </tr>\n",
       "    <tr>\n",
       "      <th>2</th>\n",
       "      <td>3</td>\n",
       "      <td>B000LQOCH0</td>\n",
       "      <td>ABXLMWJIXXAIN</td>\n",
       "      <td>Natalia Corres \"Natalia Corres\"</td>\n",
       "      <td>1</td>\n",
       "      <td>1</td>\n",
       "      <td>4</td>\n",
       "      <td>1219017600</td>\n",
       "      <td>\"Delight\" says it all</td>\n",
       "      <td>this confection around centuries it light pill...</td>\n",
       "      <td>0.028571</td>\n",
       "      <td>51</td>\n",
       "      <td>0.0</td>\n",
       "    </tr>\n",
       "    <tr>\n",
       "      <th>3</th>\n",
       "      <td>4</td>\n",
       "      <td>B000UA0QIQ</td>\n",
       "      <td>A395BORC6FGVXV</td>\n",
       "      <td>Karl</td>\n",
       "      <td>3</td>\n",
       "      <td>3</td>\n",
       "      <td>2</td>\n",
       "      <td>1307923200</td>\n",
       "      <td>Cough Medicine</td>\n",
       "      <td>if looking secret ingredient robitussin i beli...</td>\n",
       "      <td>0.028571</td>\n",
       "      <td>26</td>\n",
       "      <td>0.0</td>\n",
       "    </tr>\n",
       "    <tr>\n",
       "      <th>4</th>\n",
       "      <td>5</td>\n",
       "      <td>B006K2ZZ7K</td>\n",
       "      <td>A1UQRSCLF8GW1T</td>\n",
       "      <td>Michael D. Bigham \"M. Wassir\"</td>\n",
       "      <td>0</td>\n",
       "      <td>0</td>\n",
       "      <td>5</td>\n",
       "      <td>1350777600</td>\n",
       "      <td>Great taffy</td>\n",
       "      <td>great taffy great price there wide assortment ...</td>\n",
       "      <td>0.028571</td>\n",
       "      <td>15</td>\n",
       "      <td>0.0</td>\n",
       "    </tr>\n",
       "  </tbody>\n",
       "</table>\n",
       "</div>"
      ],
      "text/plain": [
       "   Id   ProductId          UserId                      ProfileName  \\\n",
       "0   1  B001E4KFG0  A3SGXH7AUHU8GW                       delmartian   \n",
       "1   2  B00813GRG4  A1D87F6ZCVE5NK                           dll pa   \n",
       "2   3  B000LQOCH0   ABXLMWJIXXAIN  Natalia Corres \"Natalia Corres\"   \n",
       "3   4  B000UA0QIQ  A395BORC6FGVXV                             Karl   \n",
       "4   5  B006K2ZZ7K  A1UQRSCLF8GW1T    Michael D. Bigham \"M. Wassir\"   \n",
       "\n",
       "   HelpfulnessNumerator  HelpfulnessDenominator  Score        Time  \\\n",
       "0                     1                       1      5  1303862400   \n",
       "1                     0                       0      1  1346976000   \n",
       "2                     1                       1      4  1219017600   \n",
       "3                     3                       3      2  1307923200   \n",
       "4                     0                       0      5  1350777600   \n",
       "\n",
       "                 Summary                                               Text  \\\n",
       "0  Good Quality Dog Food  i bought several vitality canned dog food prod...   \n",
       "1      Not as Advertised  product arrived labeled jumbo salted peanuts t...   \n",
       "2  \"Delight\" says it all  this confection around centuries it light pill...   \n",
       "3         Cough Medicine  if looking secret ingredient robitussin i beli...   \n",
       "4            Great taffy  great taffy great price there wide assortment ...   \n",
       "\n",
       "        mnr  rl  Maximum Content Similarity  \n",
       "0  0.028571  27                         0.0  \n",
       "1  0.028571  20                         0.0  \n",
       "2  0.028571  51                         0.0  \n",
       "3  0.028571  26                         0.0  \n",
       "4  0.028571  15                         0.0  "
      ]
     },
     "execution_count": 22,
     "metadata": {},
     "output_type": "execute_result"
    }
   ],
   "source": [
    "ts = df\n",
    "ts.head(5)"
   ]
  },
  {
   "cell_type": "code",
   "execution_count": 23,
   "id": "israeli-singer",
   "metadata": {},
   "outputs": [
    {
     "data": {
      "text/html": [
       "<div>\n",
       "<style scoped>\n",
       "    .dataframe tbody tr th:only-of-type {\n",
       "        vertical-align: middle;\n",
       "    }\n",
       "\n",
       "    .dataframe tbody tr th {\n",
       "        vertical-align: top;\n",
       "    }\n",
       "\n",
       "    .dataframe thead th {\n",
       "        text-align: right;\n",
       "    }\n",
       "</style>\n",
       "<table border=\"1\" class=\"dataframe\">\n",
       "  <thead>\n",
       "    <tr style=\"text-align: right;\">\n",
       "      <th></th>\n",
       "      <th>Id</th>\n",
       "      <th>ProductId</th>\n",
       "      <th>UserId</th>\n",
       "      <th>ProfileName</th>\n",
       "      <th>HelpfulnessNumerator</th>\n",
       "      <th>HelpfulnessDenominator</th>\n",
       "      <th>Score</th>\n",
       "      <th>Time</th>\n",
       "      <th>Summary</th>\n",
       "      <th>Text</th>\n",
       "      <th>mnr</th>\n",
       "      <th>rl</th>\n",
       "      <th>Maximum Content Similarity</th>\n",
       "      <th>flagged</th>\n",
       "    </tr>\n",
       "  </thead>\n",
       "  <tbody>\n",
       "    <tr>\n",
       "      <th>0</th>\n",
       "      <td>1</td>\n",
       "      <td>B001E4KFG0</td>\n",
       "      <td>A3SGXH7AUHU8GW</td>\n",
       "      <td>delmartian</td>\n",
       "      <td>1</td>\n",
       "      <td>1</td>\n",
       "      <td>5</td>\n",
       "      <td>1303862400</td>\n",
       "      <td>Good Quality Dog Food</td>\n",
       "      <td>i bought several vitality canned dog food prod...</td>\n",
       "      <td>0.028571</td>\n",
       "      <td>27</td>\n",
       "      <td>0.0</td>\n",
       "      <td>False</td>\n",
       "    </tr>\n",
       "    <tr>\n",
       "      <th>1</th>\n",
       "      <td>2</td>\n",
       "      <td>B00813GRG4</td>\n",
       "      <td>A1D87F6ZCVE5NK</td>\n",
       "      <td>dll pa</td>\n",
       "      <td>0</td>\n",
       "      <td>0</td>\n",
       "      <td>1</td>\n",
       "      <td>1346976000</td>\n",
       "      <td>Not as Advertised</td>\n",
       "      <td>product arrived labeled jumbo salted peanuts t...</td>\n",
       "      <td>0.028571</td>\n",
       "      <td>20</td>\n",
       "      <td>0.0</td>\n",
       "      <td>False</td>\n",
       "    </tr>\n",
       "    <tr>\n",
       "      <th>2</th>\n",
       "      <td>3</td>\n",
       "      <td>B000LQOCH0</td>\n",
       "      <td>ABXLMWJIXXAIN</td>\n",
       "      <td>Natalia Corres \"Natalia Corres\"</td>\n",
       "      <td>1</td>\n",
       "      <td>1</td>\n",
       "      <td>4</td>\n",
       "      <td>1219017600</td>\n",
       "      <td>\"Delight\" says it all</td>\n",
       "      <td>this confection around centuries it light pill...</td>\n",
       "      <td>0.028571</td>\n",
       "      <td>51</td>\n",
       "      <td>0.0</td>\n",
       "      <td>False</td>\n",
       "    </tr>\n",
       "    <tr>\n",
       "      <th>3</th>\n",
       "      <td>4</td>\n",
       "      <td>B000UA0QIQ</td>\n",
       "      <td>A395BORC6FGVXV</td>\n",
       "      <td>Karl</td>\n",
       "      <td>3</td>\n",
       "      <td>3</td>\n",
       "      <td>2</td>\n",
       "      <td>1307923200</td>\n",
       "      <td>Cough Medicine</td>\n",
       "      <td>if looking secret ingredient robitussin i beli...</td>\n",
       "      <td>0.028571</td>\n",
       "      <td>26</td>\n",
       "      <td>0.0</td>\n",
       "      <td>False</td>\n",
       "    </tr>\n",
       "    <tr>\n",
       "      <th>4</th>\n",
       "      <td>5</td>\n",
       "      <td>B006K2ZZ7K</td>\n",
       "      <td>A1UQRSCLF8GW1T</td>\n",
       "      <td>Michael D. Bigham \"M. Wassir\"</td>\n",
       "      <td>0</td>\n",
       "      <td>0</td>\n",
       "      <td>5</td>\n",
       "      <td>1350777600</td>\n",
       "      <td>Great taffy</td>\n",
       "      <td>great taffy great price there wide assortment ...</td>\n",
       "      <td>0.028571</td>\n",
       "      <td>15</td>\n",
       "      <td>0.0</td>\n",
       "      <td>False</td>\n",
       "    </tr>\n",
       "  </tbody>\n",
       "</table>\n",
       "</div>"
      ],
      "text/plain": [
       "   Id   ProductId          UserId                      ProfileName  \\\n",
       "0   1  B001E4KFG0  A3SGXH7AUHU8GW                       delmartian   \n",
       "1   2  B00813GRG4  A1D87F6ZCVE5NK                           dll pa   \n",
       "2   3  B000LQOCH0   ABXLMWJIXXAIN  Natalia Corres \"Natalia Corres\"   \n",
       "3   4  B000UA0QIQ  A395BORC6FGVXV                             Karl   \n",
       "4   5  B006K2ZZ7K  A1UQRSCLF8GW1T    Michael D. Bigham \"M. Wassir\"   \n",
       "\n",
       "   HelpfulnessNumerator  HelpfulnessDenominator  Score        Time  \\\n",
       "0                     1                       1      5  1303862400   \n",
       "1                     0                       0      1  1346976000   \n",
       "2                     1                       1      4  1219017600   \n",
       "3                     3                       3      2  1307923200   \n",
       "4                     0                       0      5  1350777600   \n",
       "\n",
       "                 Summary                                               Text  \\\n",
       "0  Good Quality Dog Food  i bought several vitality canned dog food prod...   \n",
       "1      Not as Advertised  product arrived labeled jumbo salted peanuts t...   \n",
       "2  \"Delight\" says it all  this confection around centuries it light pill...   \n",
       "3         Cough Medicine  if looking secret ingredient robitussin i beli...   \n",
       "4            Great taffy  great taffy great price there wide assortment ...   \n",
       "\n",
       "        mnr  rl  Maximum Content Similarity  flagged  \n",
       "0  0.028571  27                         0.0    False  \n",
       "1  0.028571  20                         0.0    False  \n",
       "2  0.028571  51                         0.0    False  \n",
       "3  0.028571  26                         0.0    False  \n",
       "4  0.028571  15                         0.0    False  "
      ]
     },
     "execution_count": 23,
     "metadata": {},
     "output_type": "execute_result"
    }
   ],
   "source": [
    "s = (((ts['HelpfulnessNumerator'] / ts['HelpfulnessDenominator']) * 100) <= 55) | (ts['HelpfulnessNumerator'] != ts['HelpfulnessDenominator'])\n",
    "ts['flagged'] = s\n",
    "ts.head(5)"
   ]
  },
  {
   "cell_type": "code",
   "execution_count": null,
   "id": "handled-apartment",
   "metadata": {},
   "outputs": [],
   "source": []
  },
  {
   "cell_type": "code",
   "execution_count": 24,
   "id": "czech-harvard",
   "metadata": {
    "scrolled": true
   },
   "outputs": [
    {
     "name": "stdout",
     "output_type": "stream",
     "text": [
      "Under-Sampling Data\n",
      "sample_size: \n",
      " 20704\n",
      "\n"
     ]
    },
    {
     "data": {
      "image/png": "[encoded data removed]",
      "text/plain": [
       "<Figure size 432x288 with 1 Axes>"
      ]
     },
     "metadata": {
      "needs_background": "light"
     },
     "output_type": "display_data"
    },
    {
     "data": {
      "image/png": "[encoded data removed]",
      "text/plain": [
       "<Figure size 432x288 with 1 Axes>"
      ]
     },
     "metadata": {
      "needs_background": "light"
     },
     "output_type": "display_data"
    },
    {
     "name": "stdout",
     "output_type": "stream",
     "text": [
      "Under-Sampling Complete\n"
     ]
    }
   ],
   "source": [
    "print(\"Under-Sampling Data\")\n",
    "\n",
    "# Count of Reviews\n",
    "# print(\"Authentic\", len(ts[(ts['flagged'] == False)]))\n",
    "# print(\"Fake\", len(ts[(ts['flagged'] == True)]))\n",
    "\n",
    "\n",
    "sample_size = len(ts[(ts['flagged'] == True)])\n",
    "print(f'sample_size: \\n {sample_size}\\n')\n",
    "\n",
    "\n",
    "authentic_reviews_df = ts[ts['flagged'] == False]\n",
    "# print(f'authentic_reviews_df:\\n {authentic_reviews_df}\\n')\n",
    "fake_reviews_df = ts[ts['flagged'] == True]\n",
    "# print(f'fake_reviews:\\n {fake_reviews_df}\\n')\n",
    "\n",
    "\n",
    "authentic_reviews_us_df = authentic_reviews_df.sample(sample_size)\n",
    "# print(f'authentic_reviews_us_df:\\n {authentic_reviews_us_df}\\n')\n",
    "under_sampled_df = pd.concat([authentic_reviews_us_df, fake_reviews_df], axis=0)\n",
    "# print(f'under_sampled_df:\\n {under_sampled_df}\\n')\n",
    "\n",
    "\n",
    "# print(\"Under-Sampled Fake \\n\", len(under_sampled_df[(under_sampled_df['flagged'] == True)]), \"\\n\")\n",
    "# print(\"Under-Sampled Authentic \\n\", len(under_sampled_df[(under_sampled_df['flagged'] == False)]), \"\\n\")\n",
    "\n",
    "\n",
    "# Graph of Data Distribution\n",
    "original_df = pd.concat([authentic_reviews_df, fake_reviews_df], axis=0)\n",
    "fig, ax = plt.subplots(figsize=(6, 4))\n",
    "sns.countplot(x='flagged', data= original_df)\n",
    "plt.title(\"Count of Reviews\")\n",
    "plt.show()\n",
    "\n",
    "fig, ax = plt.subplots(figsize=(6, 4))\n",
    "sns.countplot(x='flagged', data=under_sampled_df)\n",
    "plt.title(\"Count of Reviews\")\n",
    "plt.show()\n",
    "print(\"Under-Sampling Complete\")"
   ]
  },
  {
   "cell_type": "code",
   "execution_count": 25,
   "id": "ad6868d9",
   "metadata": {},
   "outputs": [],
   "source": [
    "###############\n",
    "rf_train_loss = np.empty(15)\n",
    "rf_test_loss = np.empty(15)\n",
    "\n",
    "nb_train_loss = np.empty(15)\n",
    "nb_test_loss = np.empty(15)\n",
    "###############\n",
    "\n",
    "t1 = np.empty(15)\n",
    "t2 = np.empty(15)"
   ]
  },
  {
   "cell_type": "code",
   "execution_count": 26,
   "id": "powered-parallel",
   "metadata": {},
   "outputs": [],
   "source": [
    "def model_rf(ts, model, algorithm, threshold=0.8, iterations=1):\n",
    "    ts = ts.copy()\n",
    "    print(\"Training \"+algorithm+\" Model\")\n",
    "    labels = ts['flagged']\n",
    "\n",
    "    ts.drop(['Id', 'ProductId', 'UserId', 'ProfileName', 'Time', 'Summary', 'Text', 'flagged'], axis=1, inplace=True)\n",
    "\n",
    "    train_data, test_data, train_label, test_label = train_test_split(ts, labels, test_size=0.25, random_state=42)\n",
    "\n",
    "    test_data_copy = test_data.copy()\n",
    "    test_label_copy = test_label.copy()\n",
    "\n",
    "    all_labeled = False\n",
    "\n",
    "    current_iteration = 0\n",
    "\n",
    "    pbar = tqdm(total=iterations)\n",
    "    i = 0\n",
    "    j = 0\n",
    "\n",
    "    while not all_labeled and (current_iteration < iterations):\n",
    "        current_iteration += 1\n",
    "        model.fit(train_data, train_label)\n",
    "        \n",
    "        ###############\n",
    "        m_train_label = model.predict(train_data)\n",
    "        tr_loss = 1 - accuracy_score(train_label, m_train_label)\n",
    "        rf_train_loss[i] = tr_loss\n",
    "        i+=1\n",
    "        ###############\n",
    "\n",
    "        probabilities = model.predict_proba(test_data)\n",
    "        pseudo_labels = model.predict(test_data)\n",
    "\n",
    "        indices = np.argwhere(probabilities > threshold)\n",
    "\n",
    "        for item in indices:\n",
    "            train_data.loc[test_data.index[item[0]]] = test_data.iloc[item[0]]\n",
    "            train_label.loc[test_data.index[item[0]]] = pseudo_labels[item[0]]\n",
    "        test_data.drop(test_data.index[indices[:, 0]], inplace=True)\n",
    "        test_label.drop(test_label.index[indices[:, 0]], inplace=True)\n",
    "        \n",
    "        \n",
    "        ###############\n",
    "        m_test_label = model.predict(test_data_copy)\n",
    "        te_loss = 1 - accuracy_score(test_label_copy, m_test_label)\n",
    "        rf_test_loss[j] = te_loss\n",
    "        j+=1\n",
    "        ###############\n",
    "\n",
    "        if len(test_data) == 0:\n",
    "            print(\"Exiting loop\")\n",
    "            all_labeled = True\n",
    "        pbar.update(1)\n",
    "    pbar.close()\n",
    "    predicted_labels = model.predict(test_data_copy)\n",
    "\n",
    "    # print('Best Params : ', grid_clf_acc.best_params_)\n",
    "    print(algorithm + ' Model Results')\n",
    "    print('--' * 20)\n",
    "    \n",
    "#     mse_train = mean_squared_error(train_label, m_train_label)\n",
    "#     mse_test = mean_squared_error(test_label_copy, predicted_labels)\n",
    "#     print(\"RF with pruned trees, Train MSE: {} Test MSE: {}\".format(mse_train, mse_test))\n",
    "    print('Training Accuracy : ' + str(accuracy_score(train_label, m_train_label)))\n",
    "    print('Testing Accuracy : ' + str(accuracy_score(test_label_copy, predicted_labels)))\n",
    "    print('Precision Score : ' + str(precision_score(test_label_copy, predicted_labels, pos_label=True)))\n",
    "    print('Recall Score : ' + str(recall_score(test_label_copy, predicted_labels, pos_label=True)))\n",
    "    print('F1 Score : ' + str(f1_score(test_label_copy, predicted_labels, pos_label=True)))\n",
    "    print('Confusion Matrix : \\n' + str(confusion_matrix(test_label_copy, predicted_labels)))\n",
    "    plot_confusion_matrix(test_label_copy, predicted_labels, classes=[False, True],\n",
    "                          title=algorithm + ' Confusion Matrix').show()\n",
    "\n",
    "    print('train_loss:\\n', rf_train_loss)\n",
    "    print('test_loss:\\n', rf_test_loss)"
   ]
  },
  {
   "cell_type": "code",
   "execution_count": 65,
   "id": "910b497f",
   "metadata": {},
   "outputs": [],
   "source": [
    "def model_nb(ts, model, algorithm, threshold=0.8, iterations=1):\n",
    "    ts = ts.copy()\n",
    "    print(\"Training \"+algorithm+\" Model\")\n",
    "    labels = ts['flagged']\n",
    "\n",
    "    ts.drop(['Id', 'ProductId', 'UserId', 'ProfileName', 'Time', 'Summary', 'Text', 'flagged'], axis=1, inplace=True)\n",
    "\n",
    "    train_data, test_data, train_label, test_label = train_test_split(ts, labels, test_size=0.25, random_state=42)\n",
    "\n",
    "    test_data_copy = test_data.copy()\n",
    "    test_label_copy = test_label.copy()\n",
    "\n",
    "    all_labeled = False\n",
    "\n",
    "    current_iteration = 0\n",
    "\n",
    "    pbar = tqdm(total=iterations)\n",
    "    i = 0\n",
    "    j = 0\n",
    "    \n",
    "    \n",
    "    pipe = Pipeline(steps=[\n",
    "                    ('pca', PCA()),\n",
    "                    ('estimator', model),\n",
    "                    ])\n",
    "    \n",
    "    parameters = {'estimator__var_smoothing': [1e-9]}\n",
    "    k=0\n",
    "    cv=5\n",
    "    \n",
    "        \n",
    "    while not all_labeled and (current_iteration < iterations) and (k < 15):\n",
    "        current_iteration += 1\n",
    "        \n",
    "        ###############\n",
    "        Bayes = GridSearchCV(pipe, parameters, scoring='accuracy', cv=cv).fit(train_data, train_label)\n",
    "        print(Bayes.best_estimator_)\n",
    "        #print('best score:')\n",
    "        #print(Bayes.best_score_)\n",
    "        \n",
    "        ##############\n",
    "        \n",
    "        Bayes.fit(train_data, train_label)\n",
    "        \n",
    "        ###############\n",
    "        m_train_label = Bayes.predict(train_data)\n",
    "        tr_loss = 1 - accuracy_score(train_label, m_train_label)\n",
    "        nb_train_loss[i] = tr_loss\n",
    "        i+=1\n",
    "        ###############\n",
    "        \n",
    "\n",
    "        probabilities = Bayes.predict_proba(test_data)\n",
    "        pseudo_labels = Bayes.predict(test_data)\n",
    "\n",
    "        indices = np.argwhere(probabilities > threshold)\n",
    "\n",
    "        for item in indices:\n",
    "            train_data.loc[test_data.index[item[0]]] = test_data.iloc[item[0]]\n",
    "            train_label.loc[test_data.index[item[0]]] = pseudo_labels[item[0]]\n",
    "        test_data.drop(test_data.index[indices[:, 0]], inplace=True)\n",
    "        test_label.drop(test_label.index[indices[:, 0]], inplace=True)\n",
    "        \n",
    "        \n",
    "        ###############\n",
    "        m_test_label = Bayes.predict(test_data_copy)\n",
    "        te_loss = 1 - accuracy_score(test_label_copy, m_test_label)\n",
    "        nb_test_loss[j] = te_loss\n",
    "        j+=1\n",
    "        ###############\n",
    "        \n",
    "        test_predict = Bayes.best_estimator_.predict(test_data_copy)\n",
    "        train_predict = Bayes.best_estimator_.predict(train_data)\n",
    "        t1[k] = accuracy_score(train_label, train_predict)\n",
    "        t2[k] = accuracy_score(test_label_copy, test_predict)\n",
    "        cv+=1\n",
    "        ###############\n",
    "\n",
    "        if len(test_data) == 0:\n",
    "            print(\"Exiting loop\")\n",
    "            all_labeled = True\n",
    "        pbar.update(1)\n",
    "    pbar.close()\n",
    "    predicted_labels = Bayes.predict(test_data_copy)\n",
    "\n",
    "    # print('Best Params : ', grid_clf_acc.best_params_)\n",
    "    print(algorithm + ' Model Results')\n",
    "    print('--' * 20)\n",
    "    \n",
    "    \n",
    "    print('Training Accuracy : ' + str(accuracy_score(train_label, m_train_label)))\n",
    "    print('Testing Accuracy : ' + str(accuracy_score(test_label_copy, predicted_labels)))\n",
    "    print('Precision Score : ' + str(precision_score(test_label_copy, predicted_labels, pos_label=True)))\n",
    "    print('Recall Score : ' + str(recall_score(test_label_copy, predicted_labels, pos_label=True)))\n",
    "    print('F1 Score : ' + str(f1_score(test_label_copy, predicted_labels, pos_label=True)))\n",
    "    print('Confusion Matrix : \\n' + str(confusion_matrix(test_label_copy, predicted_labels)))\n",
    "    plot_confusion_matrix(test_label_copy, predicted_labels, classes=[False, True],\n",
    "                          title=algorithm + ' Confusion Matrix').show()\n",
    "\n",
    "    print('train_loss:\\n', nb_train_loss)\n",
    "    print('test_loss:\\n', nb_test_loss)\n",
    "    print('train_loss:\\n', t1)\n",
    "    print('test_loss:\\n', t2)"
   ]
  },
  {
   "cell_type": "code",
   "execution_count": 66,
   "id": "powered-girlfriend",
   "metadata": {},
   "outputs": [],
   "source": [
    "def plot_confusion_matrix(y_true, y_pred, classes, title=None, cmap=plt.cm.Blues):\n",
    "    # Compute confusion matrix\n",
    "    cm = confusion_matrix(y_true, y_pred)\n",
    "    # Only use the labels that appear in the data\n",
    "\n",
    "    fig, ax = plt.subplots()\n",
    "    im = ax.imshow(cm, interpolation='nearest', cmap=cmap)\n",
    "    ax.figure.colorbar(im, ax=ax)\n",
    "    # We want to show all ticks...\n",
    "    ax.set(xticks=np.arange(cm.shape[1]),\n",
    "           yticks=np.arange(cm.shape[0]),\n",
    "           xticklabels=classes,\n",
    "           yticklabels=classes,\n",
    "           title=title,\n",
    "           ylabel='True label',\n",
    "           xlabel='Predicted label')\n",
    "\n",
    "    # Rotate the tick labels and set their alignment.\n",
    "    plt.setp(ax.get_xticklabels(), rotation=45, ha=\"right\",\n",
    "             rotation_mode=\"anchor\")\n",
    "\n",
    "    # Loop over data dimensions and create text annotations.\n",
    "    fmt = 'd'\n",
    "    thresh = cm.max() / 2.\n",
    "    for i in range(cm.shape[0]):\n",
    "        for j in range(cm.shape[1]):\n",
    "            ax.text(j, i, format(cm[i, j], fmt),\n",
    "                    ha=\"center\", va=\"center\",\n",
    "                    color=\"white\" if cm[i, j] > thresh else \"black\")\n",
    "    fig.tight_layout()\n",
    "\n",
    "    return plt"
   ]
  },
  {
   "cell_type": "code",
   "execution_count": 67,
   "id": "swiss-albuquerque",
   "metadata": {
    "scrolled": false
   },
   "outputs": [
    {
     "name": "stdout",
     "output_type": "stream",
     "text": [
      "Training Naive Bayes Model\n"
     ]
    },
    {
     "name": "stderr",
     "output_type": "stream",
     "text": [
      "\r",
      "  0%|                                                                                           | 0/15 [00:00<?, ?it/s]"
     ]
    },
    {
     "name": "stdout",
     "output_type": "stream",
     "text": [
      "Pipeline(steps=[('pca', PCA()), ('estimator', GaussianNB())])\n"
     ]
    },
    {
     "name": "stderr",
     "output_type": "stream",
     "text": [
      "C:\\Users\\HP\\AppData\\Roaming\\Python\\Python39\\site-packages\\pandas\\core\\indexing.py:723: SettingWithCopyWarning: \n",
      "A value is trying to be set on a copy of a slice from a DataFrame\n",
      "\n",
      "See the caveats in the documentation: https://pandas.pydata.org/pandas-docs/stable/user_guide/indexing.html#returning-a-view-versus-a-copy\n",
      "  iloc._setitem_with_indexer(indexer, value, self.name)\n",
      "C:\\Users\\HP\\AppData\\Roaming\\Python\\Python39\\site-packages\\pandas\\core\\frame.py:4901: SettingWithCopyWarning: \n",
      "A value is trying to be set on a copy of a slice from a DataFrame\n",
      "\n",
      "See the caveats in the documentation: https://pandas.pydata.org/pandas-docs/stable/user_guide/indexing.html#returning-a-view-versus-a-copy\n",
      "  return super().drop(\n",
      "  7%|█████▌                                                                             | 1/15 [00:44<10:29, 44.97s/it]"
     ]
    },
    {
     "name": "stdout",
     "output_type": "stream",
     "text": [
      "Pipeline(steps=[('pca', PCA()), ('estimator', GaussianNB())])\n"
     ]
    },
    {
     "name": "stderr",
     "output_type": "stream",
     "text": [
      "C:\\Users\\HP\\AppData\\Roaming\\Python\\Python39\\site-packages\\pandas\\core\\indexing.py:723: SettingWithCopyWarning: \n",
      "A value is trying to be set on a copy of a slice from a DataFrame\n",
      "\n",
      "See the caveats in the documentation: https://pandas.pydata.org/pandas-docs/stable/user_guide/indexing.html#returning-a-view-versus-a-copy\n",
      "  iloc._setitem_with_indexer(indexer, value, self.name)\n",
      "C:\\Users\\HP\\AppData\\Roaming\\Python\\Python39\\site-packages\\pandas\\core\\frame.py:4901: SettingWithCopyWarning: \n",
      "A value is trying to be set on a copy of a slice from a DataFrame\n",
      "\n",
      "See the caveats in the documentation: https://pandas.pydata.org/pandas-docs/stable/user_guide/indexing.html#returning-a-view-versus-a-copy\n",
      "  return super().drop(\n",
      " 13%|███████████                                                                        | 2/15 [00:45<04:07, 19.06s/it]"
     ]
    },
    {
     "name": "stdout",
     "output_type": "stream",
     "text": [
      "Pipeline(steps=[('pca', PCA()), ('estimator', GaussianNB())])\n"
     ]
    },
    {
     "name": "stderr",
     "output_type": "stream",
     "text": [
      "C:\\Users\\HP\\AppData\\Roaming\\Python\\Python39\\site-packages\\pandas\\core\\indexing.py:723: SettingWithCopyWarning: \n",
      "A value is trying to be set on a copy of a slice from a DataFrame\n",
      "\n",
      "See the caveats in the documentation: https://pandas.pydata.org/pandas-docs/stable/user_guide/indexing.html#returning-a-view-versus-a-copy\n",
      "  iloc._setitem_with_indexer(indexer, value, self.name)\n",
      "C:\\Users\\HP\\AppData\\Roaming\\Python\\Python39\\site-packages\\pandas\\core\\frame.py:4901: SettingWithCopyWarning: \n",
      "A value is trying to be set on a copy of a slice from a DataFrame\n",
      "\n",
      "See the caveats in the documentation: https://pandas.pydata.org/pandas-docs/stable/user_guide/indexing.html#returning-a-view-versus-a-copy\n",
      "  return super().drop(\n",
      "\r",
      " 20%|████████████████▌                                                                  | 3/15 [00:46<02:07, 10.60s/it]"
     ]
    },
    {
     "name": "stdout",
     "output_type": "stream",
     "text": [
      "Pipeline(steps=[('pca', PCA()), ('estimator', GaussianNB())])\n"
     ]
    },
    {
     "name": "stderr",
     "output_type": "stream",
     "text": [
      "C:\\Users\\HP\\AppData\\Roaming\\Python\\Python39\\site-packages\\pandas\\core\\frame.py:4901: SettingWithCopyWarning: \n",
      "A value is trying to be set on a copy of a slice from a DataFrame\n",
      "\n",
      "See the caveats in the documentation: https://pandas.pydata.org/pandas-docs/stable/user_guide/indexing.html#returning-a-view-versus-a-copy\n",
      "  return super().drop(\n",
      "\r",
      " 27%|██████████████████████▏                                                            | 4/15 [00:47<01:13,  6.65s/it]"
     ]
    },
    {
     "name": "stdout",
     "output_type": "stream",
     "text": [
      "Pipeline(steps=[('pca', PCA()), ('estimator', GaussianNB())])\n"
     ]
    },
    {
     "name": "stderr",
     "output_type": "stream",
     "text": [
      "C:\\Users\\HP\\AppData\\Roaming\\Python\\Python39\\site-packages\\pandas\\core\\frame.py:4901: SettingWithCopyWarning: \n",
      "A value is trying to be set on a copy of a slice from a DataFrame\n",
      "\n",
      "See the caveats in the documentation: https://pandas.pydata.org/pandas-docs/stable/user_guide/indexing.html#returning-a-view-versus-a-copy\n",
      "  return super().drop(\n",
      "\r",
      " 33%|███████████████████████████▋                                                       | 5/15 [00:47<00:44,  4.44s/it]"
     ]
    },
    {
     "name": "stdout",
     "output_type": "stream",
     "text": [
      "Pipeline(steps=[('pca', PCA()), ('estimator', GaussianNB())])\n"
     ]
    },
    {
     "name": "stderr",
     "output_type": "stream",
     "text": [
      "C:\\Users\\HP\\AppData\\Roaming\\Python\\Python39\\site-packages\\pandas\\core\\frame.py:4901: SettingWithCopyWarning: \n",
      "A value is trying to be set on a copy of a slice from a DataFrame\n",
      "\n",
      "See the caveats in the documentation: https://pandas.pydata.org/pandas-docs/stable/user_guide/indexing.html#returning-a-view-versus-a-copy\n",
      "  return super().drop(\n",
      "\r",
      " 40%|█████████████████████████████████▏                                                 | 6/15 [00:48<00:28,  3.12s/it]"
     ]
    },
    {
     "name": "stdout",
     "output_type": "stream",
     "text": [
      "Pipeline(steps=[('pca', PCA()), ('estimator', GaussianNB())])\n"
     ]
    },
    {
     "name": "stderr",
     "output_type": "stream",
     "text": [
      "C:\\Users\\HP\\AppData\\Roaming\\Python\\Python39\\site-packages\\pandas\\core\\frame.py:4901: SettingWithCopyWarning: \n",
      "A value is trying to be set on a copy of a slice from a DataFrame\n",
      "\n",
      "See the caveats in the documentation: https://pandas.pydata.org/pandas-docs/stable/user_guide/indexing.html#returning-a-view-versus-a-copy\n",
      "  return super().drop(\n",
      "\r",
      " 47%|██████████████████████████████████████▋                                            | 7/15 [00:48<00:18,  2.30s/it]"
     ]
    },
    {
     "name": "stdout",
     "output_type": "stream",
     "text": [
      "Pipeline(steps=[('pca', PCA()), ('estimator', GaussianNB())])\n"
     ]
    },
    {
     "name": "stderr",
     "output_type": "stream",
     "text": [
      "C:\\Users\\HP\\AppData\\Roaming\\Python\\Python39\\site-packages\\pandas\\core\\frame.py:4901: SettingWithCopyWarning: \n",
      "A value is trying to be set on a copy of a slice from a DataFrame\n",
      "\n",
      "See the caveats in the documentation: https://pandas.pydata.org/pandas-docs/stable/user_guide/indexing.html#returning-a-view-versus-a-copy\n",
      "  return super().drop(\n",
      "\r",
      " 53%|████████████████████████████████████████████▎                                      | 8/15 [00:49<00:12,  1.78s/it]"
     ]
    },
    {
     "name": "stdout",
     "output_type": "stream",
     "text": [
      "Pipeline(steps=[('pca', PCA()), ('estimator', GaussianNB())])\n"
     ]
    },
    {
     "name": "stderr",
     "output_type": "stream",
     "text": [
      "C:\\Users\\HP\\AppData\\Roaming\\Python\\Python39\\site-packages\\pandas\\core\\frame.py:4901: SettingWithCopyWarning: \n",
      "A value is trying to be set on a copy of a slice from a DataFrame\n",
      "\n",
      "See the caveats in the documentation: https://pandas.pydata.org/pandas-docs/stable/user_guide/indexing.html#returning-a-view-versus-a-copy\n",
      "  return super().drop(\n",
      "\r",
      " 60%|█████████████████████████████████████████████████▊                                 | 9/15 [00:50<00:08,  1.45s/it]"
     ]
    },
    {
     "name": "stdout",
     "output_type": "stream",
     "text": [
      "Pipeline(steps=[('pca', PCA()), ('estimator', GaussianNB())])\n"
     ]
    },
    {
     "name": "stderr",
     "output_type": "stream",
     "text": [
      "C:\\Users\\HP\\AppData\\Roaming\\Python\\Python39\\site-packages\\pandas\\core\\frame.py:4901: SettingWithCopyWarning: \n",
      "A value is trying to be set on a copy of a slice from a DataFrame\n",
      "\n",
      "See the caveats in the documentation: https://pandas.pydata.org/pandas-docs/stable/user_guide/indexing.html#returning-a-view-versus-a-copy\n",
      "  return super().drop(\n",
      "\r",
      " 67%|██████████████████████████████████████████████████████▋                           | 10/15 [00:50<00:06,  1.24s/it]"
     ]
    },
    {
     "name": "stdout",
     "output_type": "stream",
     "text": [
      "Pipeline(steps=[('pca', PCA()), ('estimator', GaussianNB())])\n"
     ]
    },
    {
     "name": "stderr",
     "output_type": "stream",
     "text": [
      "C:\\Users\\HP\\AppData\\Roaming\\Python\\Python39\\site-packages\\pandas\\core\\frame.py:4901: SettingWithCopyWarning: \n",
      "A value is trying to be set on a copy of a slice from a DataFrame\n",
      "\n",
      "See the caveats in the documentation: https://pandas.pydata.org/pandas-docs/stable/user_guide/indexing.html#returning-a-view-versus-a-copy\n",
      "  return super().drop(\n",
      "\r",
      " 73%|████████████████████████████████████████████████████████████▏                     | 11/15 [00:51<00:04,  1.10s/it]"
     ]
    },
    {
     "name": "stdout",
     "output_type": "stream",
     "text": [
      "Pipeline(steps=[('pca', PCA()), ('estimator', GaussianNB())])\n"
     ]
    },
    {
     "name": "stderr",
     "output_type": "stream",
     "text": [
      "C:\\Users\\HP\\AppData\\Roaming\\Python\\Python39\\site-packages\\pandas\\core\\frame.py:4901: SettingWithCopyWarning: \n",
      "A value is trying to be set on a copy of a slice from a DataFrame\n",
      "\n",
      "See the caveats in the documentation: https://pandas.pydata.org/pandas-docs/stable/user_guide/indexing.html#returning-a-view-versus-a-copy\n",
      "  return super().drop(\n",
      "\r",
      " 80%|█████████████████████████████████████████████████████████████████▌                | 12/15 [00:52<00:03,  1.03s/it]"
     ]
    },
    {
     "name": "stdout",
     "output_type": "stream",
     "text": [
      "Pipeline(steps=[('pca', PCA()), ('estimator', GaussianNB())])\n"
     ]
    },
    {
     "name": "stderr",
     "output_type": "stream",
     "text": [
      "C:\\Users\\HP\\AppData\\Roaming\\Python\\Python39\\site-packages\\pandas\\core\\frame.py:4901: SettingWithCopyWarning: \n",
      "A value is trying to be set on a copy of a slice from a DataFrame\n",
      "\n",
      "See the caveats in the documentation: https://pandas.pydata.org/pandas-docs/stable/user_guide/indexing.html#returning-a-view-versus-a-copy\n",
      "  return super().drop(\n",
      "\r",
      " 87%|███████████████████████████████████████████████████████████████████████           | 13/15 [00:53<00:02,  1.00s/it]"
     ]
    },
    {
     "name": "stdout",
     "output_type": "stream",
     "text": [
      "Pipeline(steps=[('pca', PCA()), ('estimator', GaussianNB())])\n"
     ]
    },
    {
     "name": "stderr",
     "output_type": "stream",
     "text": [
      "C:\\Users\\HP\\AppData\\Roaming\\Python\\Python39\\site-packages\\pandas\\core\\frame.py:4901: SettingWithCopyWarning: \n",
      "A value is trying to be set on a copy of a slice from a DataFrame\n",
      "\n",
      "See the caveats in the documentation: https://pandas.pydata.org/pandas-docs/stable/user_guide/indexing.html#returning-a-view-versus-a-copy\n",
      "  return super().drop(\n",
      "\r",
      " 93%|████████████████████████████████████████████████████████████████████████████▌     | 14/15 [00:54<00:00,  1.02it/s]"
     ]
    },
    {
     "name": "stdout",
     "output_type": "stream",
     "text": [
      "Pipeline(steps=[('pca', PCA()), ('estimator', GaussianNB())])\n"
     ]
    },
    {
     "name": "stderr",
     "output_type": "stream",
     "text": [
      "C:\\Users\\HP\\AppData\\Roaming\\Python\\Python39\\site-packages\\pandas\\core\\frame.py:4901: SettingWithCopyWarning: \n",
      "A value is trying to be set on a copy of a slice from a DataFrame\n",
      "\n",
      "See the caveats in the documentation: https://pandas.pydata.org/pandas-docs/stable/user_guide/indexing.html#returning-a-view-versus-a-copy\n",
      "  return super().drop(\n",
      "100%|██████████████████████████████████████████████████████████████████████████████████| 15/15 [00:55<00:00,  3.69s/it]\n"
     ]
    },
    {
     "name": "stdout",
     "output_type": "stream",
     "text": [
      "Naive Bayes Model Results\n",
      "----------------------------------------\n",
      "Training Accuracy : 0.78502804194099\n",
      "Testing Accuracy : 0.722758887171561\n",
      "Precision Score : 0.8356204379562043\n",
      "Recall Score : 0.5536854323853744\n",
      "F1 Score : 0.6660460786595299\n",
      "Confusion Matrix : \n",
      "[[4620  563]\n",
      " [2307 2862]]\n"
     ]
    },
    {
     "data": {
      "image/png": "[encoded data removed]",
      "text/plain": [
       "<Figure size 432x288 with 2 Axes>"
      ]
     },
     "metadata": {
      "needs_background": "light"
     },
     "output_type": "display_data"
    },
    {
     "name": "stdout",
     "output_type": "stream",
     "text": [
      "train_loss:\n",
      " [0.27708011 0.2158488  0.21487966 0.21497196 0.21497196 0.21497196\n",
      " 0.21497196 0.21497196 0.21497196 0.21497196 0.21497196 0.21497196\n",
      " 0.21497196 0.21497196 0.21497196]\n",
      "test_loss:\n",
      " [0.27028594 0.27724111 0.27714451 0.27724111 0.27724111 0.27724111\n",
      " 0.27724111 0.27724111 0.27724111 0.27724111 0.27724111 0.27724111\n",
      " 0.27724111 0.27724111 0.27724111]\n",
      "train_loss:\n",
      " [0.78502804 1.         1.         1.         1.         1.\n",
      " 1.         1.         1.         1.         1.         1.\n",
      " 1.         1.         1.        ]\n",
      "test_loss:\n",
      " [0.72275889 1.         1.         1.         1.         1.\n",
      " 1.         1.         1.         1.         1.         1.\n",
      " 1.         1.         1.        ]\n",
      "Time taken :  57.46743154525757\n"
     ]
    }
   ],
   "source": [
    "start_time = time()\n",
    "rf = RandomForestClassifier(random_state=42, criterion='entropy', max_depth=11, max_features='auto',n_estimators=200, max_leaf_nodes=5000)\n",
    "\n",
    "nb = GaussianNB()\n",
    "\n",
    "model_rf(under_sampled_df, model=rf, threshold=0.7, iterations=15, algorithm='Random Forest')\n",
    "model_nb(under_sampled_df, model=nb, threshold=0.7, iterations=15, algorithm='Naive Bayes')\n",
    "end_time = time()\n",
    "print(\"Time taken : \", end_time - start_time)"
   ]
  },
  {
   "cell_type": "code",
   "execution_count": 2,
   "id": "4161771b",
   "metadata": {},
   "outputs": [
    {
     "data": {
      "image/png": "[encoded data removed]",
      "text/plain": [
       "<Figure size 720x360 with 1 Axes>"
      ]
     },
     "metadata": {
      "needs_background": "light"
     },
     "output_type": "display_data"
    }
   ],
   "source": [
    "m = 1-np.array([0.27708011, 0.2158488, 0.21487966, 0.21497196, 0.21497196, 0.21497196, 0.21497196, 0.21497196, 0.21497196, 0.21497196, 0.21497196, 0.21497196, 0.21497196, 0.21497196, 0.21497196])\n",
    "n = 1-np.array([0.27028594, 0.27724111, 0.27714451, 0.27724111, 0.27724111, 0.27724111, 0.27724111, 0.27724111, 0.27724111, 0.27724111, 0.27724111, 0.27724111, 0.27724111, 0.27724111, 0.27724111])\n",
    "plt.figure(figsize=(10, 5))\n",
    "plt.plot(m)\n",
    "plt.plot(n)\n",
    "plt.title('model accuracy (Naive Bayes)')\n",
    "plt.ylabel('accuracy')\n",
    "plt.xlabel('iteration')\n",
    "plt.legend(['train', 'test'], loc='upper left')\n",
    "# plt.ylim([0,0.35])\n",
    "plt.show()\n",
    "# m = 1-(nb_train_loss+0.089)\n",
    "# n = 1-(nb_test_loss+0.02001)"
   ]
  },
  {
   "cell_type": "markdown",
   "id": "3cc38102",
   "metadata": {},
   "source": [
    "### nb"
   ]
  },
  {
   "cell_type": "code",
   "execution_count": null,
   "id": "8569e9f6",
   "metadata": {},
   "outputs": [],
   "source": [
    "plt.figure(figsize=(10, 5))\n",
    "plt.plot(nb_train_loss)\n",
    "plt.plot(nb_test_loss)\n",
    "plt.title('model loss (Naive Bayes)')\n",
    "plt.ylabel('loss')\n",
    "plt.xlabel('iteration')\n",
    "plt.legend(['train', 'test'], loc='upper right')\n",
    "plt.ylim([0,0.35])\n",
    "plt.show()"
   ]
  },
  {
   "cell_type": "code",
   "execution_count": null,
   "id": "768a708f",
   "metadata": {},
   "outputs": [],
   "source": []
  },
  {
   "cell_type": "code",
   "execution_count": null,
   "id": "715cf418",
   "metadata": {},
   "outputs": [],
   "source": []
  },
  {
   "cell_type": "code",
   "execution_count": null,
   "id": "40b3c301",
   "metadata": {},
   "outputs": [],
   "source": [
    "print(\"Authentic\", len(ts[(ts['flagged'] == False)]))\n",
    "print(\"Fake\", len(ts[(ts['flagged'] == True)]))"
   ]
  },
  {
   "cell_type": "code",
   "execution_count": null,
   "id": "ec953ced",
   "metadata": {},
   "outputs": [],
   "source": [
    "len(ts['Text'][0])"
   ]
  },
  {
   "cell_type": "code",
   "execution_count": null,
   "id": "a44a11a4",
   "metadata": {},
   "outputs": [],
   "source": [
    "ts['Text'][0]"
   ]
  },
  {
   "cell_type": "code",
   "execution_count": null,
   "id": "8c4eb71f",
   "metadata": {},
   "outputs": [],
   "source": [
    "ts['count'] = ts['Text'].apply(lambda n: len(n.split(' ')))\n",
    "ts[['Text', 'count']]"
   ]
  },
  {
   "cell_type": "code",
   "execution_count": null,
   "id": "9e9400f9",
   "metadata": {},
   "outputs": [],
   "source": [
    "ts['count'].max()"
   ]
  },
  {
   "cell_type": "code",
   "execution_count": null,
   "id": "ba40ed9b",
   "metadata": {
    "scrolled": true
   },
   "outputs": [],
   "source": [
    "print('train_loss:\\n', rf_train_loss)\n",
    "print('test_loss:\\n', rf_test_loss)"
   ]
  },
  {
   "cell_type": "code",
   "execution_count": null,
   "id": "2e95ee46",
   "metadata": {},
   "outputs": [],
   "source": [
    "print('train_loss:\\n', nb_train_loss)\n",
    "print('test_loss:\\n', nb_test_loss)"
   ]
  },
  {
   "cell_type": "code",
   "execution_count": null,
   "id": "ee83efc0",
   "metadata": {},
   "outputs": [],
   "source": [
    "plt.figure(figsize=(8, 6))\n",
    "plt.plot(rf_train_loss)\n",
    "plt.plot(rf_test_loss)\n",
    "plt.title('model loss (Random Forest)')\n",
    "plt.ylabel('loss')\n",
    "plt.xlabel('iteration')\n",
    "plt.legend(['train', 'test'], loc='upper right')\n",
    "#plt.ylim([0.001,0.125])\n",
    "plt.show()"
   ]
  },
  {
   "cell_type": "code",
   "execution_count": null,
   "id": "8110d223",
   "metadata": {},
   "outputs": [],
   "source": [
    "plt.figure(figsize=(8, 6))\n",
    "plt.plot(nb_train_loss)\n",
    "plt.plot(nb_test_loss)\n",
    "plt.title('model loss (Naive Bayes)')\n",
    "plt.ylabel('loss')\n",
    "plt.xlabel('iteration')\n",
    "plt.legend(['train', 'test'], loc='upper right')\n",
    "plt.show()"
   ]
  },
  {
   "cell_type": "code",
   "execution_count": null,
   "id": "f7cca110",
   "metadata": {},
   "outputs": [],
   "source": []
  },
  {
   "cell_type": "code",
   "execution_count": null,
   "id": "1b07497a",
   "metadata": {},
   "outputs": [],
   "source": [
    "num = np.empty(15)\n",
    "j = 0\n",
    "for i in range(1, 21):\n",
    "    num[j] = i\n",
    "    j+=1\n",
    "print(num)"
   ]
  },
  {
   "cell_type": "code",
   "execution_count": null,
   "id": "1b143556",
   "metadata": {},
   "outputs": [],
   "source": [
    "loss_dif = np.empty(15)\n",
    "for i in range(15):\n",
    "    loss_dif[i] = (1-rf_train_loss[i]) - (1-rf_test_loss[i])\n",
    "print(loss_dif)"
   ]
  },
  {
   "cell_type": "code",
   "execution_count": null,
   "id": "7976003d",
   "metadata": {},
   "outputs": [],
   "source": [
    "plt.figure(figsize=(10, 6))\n",
    "plt.plot(loss_dif)\n",
    "plt.title('model loss difference')\n",
    "plt.ylabel('loss')\n",
    "plt.xlabel('iteration')\n",
    "plt.show()"
   ]
  },
  {
   "cell_type": "code",
   "execution_count": 30,
   "id": "5531190a",
   "metadata": {},
   "outputs": [],
   "source": [
    "X = ts.copy()\n",
    "y = ts['flagged']\n",
    "X.drop(['Id', 'ProductId', 'UserId', 'ProfileName', 'Time', 'Summary', 'Text', 'flagged'], axis=1, inplace=True)\n",
    "\n",
    "train_data, test_data, train_label, test_label = train_test_split(X, y, test_size=0.25, random_state=42)"
   ]
  },
  {
   "cell_type": "code",
   "execution_count": 31,
   "id": "eca48554",
   "metadata": {},
   "outputs": [
    {
     "data": {
      "text/plain": [
       "RandomForestClassifier(criterion='entropy', max_depth=100, max_leaf_nodes=200,\n",
       "                       n_estimators=80, random_state=42)"
      ]
     },
     "execution_count": 31,
     "metadata": {},
     "output_type": "execute_result"
    }
   ],
   "source": [
    "rf = RandomForestClassifier(random_state=42, criterion='entropy', max_depth=100, max_features='auto',n_estimators=80, max_leaf_nodes=200)\n",
    "rf.fit(train_data, train_label)"
   ]
  },
  {
   "cell_type": "code",
   "execution_count": null,
   "id": "895af81e",
   "metadata": {},
   "outputs": [],
   "source": []
  },
  {
   "cell_type": "code",
   "execution_count": 32,
   "id": "286e851a",
   "metadata": {},
   "outputs": [],
   "source": [
    "predicted_labels = rf.predict(test_data)\n",
    "train_predicted_labels = rf.predict(train_data)"
   ]
  },
  {
   "cell_type": "code",
   "execution_count": null,
   "id": "308527d6",
   "metadata": {},
   "outputs": [],
   "source": []
  },
  {
   "cell_type": "code",
   "execution_count": 33,
   "id": "c3e512e3",
   "metadata": {},
   "outputs": [
    {
     "name": "stdout",
     "output_type": "stream",
     "text": [
      "Training accuracy:  0.9939062604173612\n",
      "Testing accuracy:  0.9905996239849594\n"
     ]
    }
   ],
   "source": [
    "print('Training accuracy: ', 1 - mean_absolute_error(train_label.astype(int), train_predicted_labels.astype(int)))\n",
    "print('Testing accuracy: ', 1 - mean_absolute_error(test_label.astype(int), predicted_labels.astype(int)))"
   ]
  },
  {
   "cell_type": "code",
   "execution_count": 35,
   "id": "3045ca8e",
   "metadata": {},
   "outputs": [
    {
     "data": {
      "text/plain": [
       "83983    0\n",
       "62239    1\n",
       "85658    0\n",
       "47235    0\n",
       "96936    1\n",
       "        ..\n",
       "6265     0\n",
       "54890    0\n",
       "76826    0\n",
       "860      0\n",
       "15795    0\n",
       "Name: flagged, Length: 74995, dtype: int32"
      ]
     },
     "execution_count": 35,
     "metadata": {},
     "output_type": "execute_result"
    }
   ],
   "source": [
    "train_label.astype(int)"
   ]
  },
  {
   "cell_type": "code",
   "execution_count": 41,
   "id": "09331c44",
   "metadata": {},
   "outputs": [],
   "source": [
    "def get_mae(max_leaf_nodes, max_depth, train_data, test_data, train_label, test_label):\n",
    "    m = RandomForestClassifier(random_state=42, criterion='entropy', max_depth=max_depth, max_features='auto', n_estimators=200, max_leaf_nodes=max_leaf_nodes)\n",
    "    m.fit(train_data, train_label)\n",
    "    pred_value = m.predict(test_data)\n",
    "    t_pred_value = m.predict(train_data)\n",
    "    acc_test = 1-mean_absolute_error(test_label.astype(int), pred_value.astype(int))\n",
    "    acc_train = 1-mean_absolute_error(train_label.astype(int), t_pred_value.astype(int))\n",
    "    mean_test = mean_absolute_error(test_label.astype(int), pred_value.astype(int))\n",
    "    mean_train = mean_absolute_error(train_label.astype(int), t_pred_value.astype(int))\n",
    "    accuracy = accuracy_score(test_label, pred_value)\n",
    "    precision = precision_score(test_label, pred_value, pos_label=True)\n",
    "    recall = recall_score(test_label, pred_value, pos_label=True)\n",
    "    fscore = f1_score(test_label, pred_value, pos_label=True)\n",
    "    confusion = confusion_matrix(test_label, pred_value)\n",
    "    plot = plot_confusion_matrix(test_label, pred_value, classes=[False, True], title='Random Forest' + ' Confusion Matrix').show()\n",
    "    return acc_test, acc_train, mean_train, mean_test, accuracy, precision, recall, fscore, confusion, plot\n",
    "\n"
   ]
  },
  {
   "cell_type": "code",
   "execution_count": 36,
   "id": "b9e354dd",
   "metadata": {},
   "outputs": [
    {
     "data": {
      "text/plain": [
       "33966    False\n",
       "22853    False\n",
       "19448    False\n",
       "9732      True\n",
       "7129     False\n",
       "         ...  \n",
       "66178    False\n",
       "45151    False\n",
       "14672    False\n",
       "37002    False\n",
       "60137     True\n",
       "Name: flagged, Length: 24999, dtype: bool"
      ]
     },
     "execution_count": 36,
     "metadata": {},
     "output_type": "execute_result"
    }
   ],
   "source": [
    "test_label"
   ]
  },
  {
   "cell_type": "code",
   "execution_count": 39,
   "id": "d16e38b2",
   "metadata": {},
   "outputs": [
    {
     "name": "stderr",
     "output_type": "stream",
     "text": [
      "  0%|                                                                                           | 0/15 [25:04<?, ?it/s]\n",
      "C:\\Users\\HP\\AppData\\Roaming\\Python\\Python39\\site-packages\\sklearn\\metrics\\_classification.py:1248: UndefinedMetricWarning: Precision is ill-defined and being set to 0.0 due to no predicted samples. Use `zero_division` parameter to control this behavior.\n",
      "  _warn_prf(average, modifier, msg_start, len(result))\n"
     ]
    },
    {
     "data": {
      "image/png": "[encoded data removed]",
      "text/plain": [
       "<Figure size 432x288 with 2 Axes>"
      ]
     },
     "metadata": {
      "needs_background": "light"
     },
     "output_type": "display_data"
    },
    {
     "ename": "ValueError",
     "evalue": "not enough values to unpack (expected 10, got 8)",
     "output_type": "error",
     "traceback": [
      "\u001b[1;31m---------------------------------------------------------------------------\u001b[0m",
      "\u001b[1;31mValueError\u001b[0m                                Traceback (most recent call last)",
      "\u001b[1;32m~\\AppData\\Local\\Temp/ipykernel_15748/778027776.py\u001b[0m in \u001b[0;36m<module>\u001b[1;34m\u001b[0m\n\u001b[0;32m      3\u001b[0m \u001b[0ms_errors\u001b[0m \u001b[1;33m=\u001b[0m \u001b[0mnp\u001b[0m\u001b[1;33m.\u001b[0m\u001b[0mempty\u001b[0m\u001b[1;33m(\u001b[0m\u001b[1;36m18\u001b[0m\u001b[1;33m)\u001b[0m\u001b[1;33m\u001b[0m\u001b[1;33m\u001b[0m\u001b[0m\n\u001b[0;32m      4\u001b[0m \u001b[1;32mfor\u001b[0m \u001b[0mmax_leaf_nodes\u001b[0m\u001b[1;33m,\u001b[0m \u001b[0mmax_depth\u001b[0m \u001b[1;32min\u001b[0m \u001b[0mzip\u001b[0m\u001b[1;33m(\u001b[0m\u001b[1;33m[\u001b[0m\u001b[1;36m2\u001b[0m\u001b[1;33m,\u001b[0m \u001b[1;36m5\u001b[0m\u001b[1;33m,\u001b[0m \u001b[1;36m50\u001b[0m\u001b[1;33m,\u001b[0m \u001b[1;36m100\u001b[0m\u001b[1;33m,\u001b[0m \u001b[1;36m200\u001b[0m\u001b[1;33m,\u001b[0m \u001b[1;36m250\u001b[0m\u001b[1;33m,\u001b[0m \u001b[1;36m350\u001b[0m \u001b[1;33m,\u001b[0m \u001b[1;36m400\u001b[0m\u001b[1;33m,\u001b[0m \u001b[1;36m450\u001b[0m\u001b[1;33m,\u001b[0m \u001b[1;36m500\u001b[0m\u001b[1;33m,\u001b[0m \u001b[1;36m550\u001b[0m\u001b[1;33m,\u001b[0m \u001b[1;36m600\u001b[0m\u001b[1;33m,\u001b[0m \u001b[1;36m800\u001b[0m\u001b[1;33m,\u001b[0m \u001b[1;36m1000\u001b[0m\u001b[1;33m,\u001b[0m \u001b[1;36m2000\u001b[0m\u001b[1;33m,\u001b[0m \u001b[1;36m3000\u001b[0m\u001b[1;33m,\u001b[0m \u001b[1;36m5000\u001b[0m\u001b[1;33m,\u001b[0m \u001b[1;36m5000\u001b[0m\u001b[1;33m]\u001b[0m\u001b[1;33m,\u001b[0m \u001b[1;33m[\u001b[0m\u001b[1;36m2\u001b[0m\u001b[1;33m,\u001b[0m \u001b[1;36m100\u001b[0m\u001b[1;33m,\u001b[0m \u001b[1;36m70\u001b[0m\u001b[1;33m,\u001b[0m \u001b[1;36m35\u001b[0m\u001b[1;33m,\u001b[0m \u001b[1;36m25\u001b[0m\u001b[1;33m,\u001b[0m \u001b[1;36m43\u001b[0m\u001b[1;33m,\u001b[0m \u001b[1;36m38\u001b[0m\u001b[1;33m,\u001b[0m \u001b[1;36m30\u001b[0m\u001b[1;33m,\u001b[0m \u001b[1;36m28\u001b[0m\u001b[1;33m,\u001b[0m \u001b[1;36m23\u001b[0m\u001b[1;33m,\u001b[0m \u001b[1;36m17\u001b[0m\u001b[1;33m,\u001b[0m \u001b[1;36m25\u001b[0m\u001b[1;33m,\u001b[0m \u001b[1;36m28\u001b[0m\u001b[1;33m,\u001b[0m \u001b[1;36m22\u001b[0m\u001b[1;33m,\u001b[0m \u001b[1;36m19\u001b[0m\u001b[1;33m,\u001b[0m \u001b[1;36m17\u001b[0m\u001b[1;33m,\u001b[0m \u001b[1;36m10\u001b[0m\u001b[1;33m,\u001b[0m \u001b[1;36m11\u001b[0m\u001b[1;33m]\u001b[0m\u001b[1;33m)\u001b[0m\u001b[1;33m:\u001b[0m\u001b[1;33m\u001b[0m\u001b[1;33m\u001b[0m\u001b[0m\n\u001b[1;32m----> 5\u001b[1;33m     \u001b[0macc_te\u001b[0m\u001b[1;33m,\u001b[0m \u001b[0macc_tr\u001b[0m\u001b[1;33m,\u001b[0m \u001b[0mt\u001b[0m\u001b[1;33m,\u001b[0m \u001b[0ms\u001b[0m\u001b[1;33m,\u001b[0m \u001b[0ma\u001b[0m\u001b[1;33m,\u001b[0m \u001b[0mp\u001b[0m\u001b[1;33m,\u001b[0m \u001b[0mr\u001b[0m\u001b[1;33m,\u001b[0m \u001b[0mf\u001b[0m\u001b[1;33m,\u001b[0m \u001b[0mc\u001b[0m\u001b[1;33m,\u001b[0m \u001b[0mplot\u001b[0m \u001b[1;33m=\u001b[0m \u001b[0mget_mae\u001b[0m\u001b[1;33m(\u001b[0m\u001b[0mmax_leaf_nodes\u001b[0m\u001b[1;33m,\u001b[0m \u001b[0mmax_depth\u001b[0m\u001b[1;33m,\u001b[0m \u001b[0mtrain_data\u001b[0m\u001b[1;33m,\u001b[0m \u001b[0mtest_data\u001b[0m\u001b[1;33m,\u001b[0m \u001b[0mtrain_label\u001b[0m\u001b[1;33m,\u001b[0m \u001b[0mtest_label\u001b[0m\u001b[1;33m)\u001b[0m\u001b[1;33m\u001b[0m\u001b[1;33m\u001b[0m\u001b[0m\n\u001b[0m\u001b[0;32m      6\u001b[0m     \u001b[0mt_errors\u001b[0m\u001b[1;33m[\u001b[0m\u001b[0mi\u001b[0m\u001b[1;33m]\u001b[0m \u001b[1;33m=\u001b[0m \u001b[0mt\u001b[0m\u001b[1;33m\u001b[0m\u001b[1;33m\u001b[0m\u001b[0m\n\u001b[0;32m      7\u001b[0m     \u001b[0ms_errors\u001b[0m\u001b[1;33m[\u001b[0m\u001b[0mi\u001b[0m\u001b[1;33m]\u001b[0m \u001b[1;33m=\u001b[0m \u001b[0ms\u001b[0m\u001b[1;33m\u001b[0m\u001b[1;33m\u001b[0m\u001b[0m\n",
      "\u001b[1;31mValueError\u001b[0m: not enough values to unpack (expected 10, got 8)"
     ]
    }
   ],
   "source": [
    "i = 0\n",
    "t_errors = np.empty(18)\n",
    "s_errors = np.empty(18)\n",
    "for max_leaf_nodes, max_depth in zip([2, 5, 50, 100, 200, 250, 350 , 400, 450, 500, 550, 600, 800, 1000, 2000, 3000, 5000, 5000], [2, 100, 70, 35, 25, 43, 38, 30, 28, 23, 17, 25, 28, 22, 19, 17, 10, 11]):\n",
    "    acc_te, acc_tr, t, s, a, p, r, f, c, plot = get_mae(max_leaf_nodes, max_depth, train_data, test_data, train_label, test_label)\n",
    "    t_errors[i] = t\n",
    "    s_errors[i] = s\n",
    "    i+=1\n",
    "print(t_errors)\n",
    "print(s_errors)\n",
    "#zip([5, 50, 100, 50000, 2000, 50, 500, 1000, 400, 5000, 1000, 2000, 1000, 5000, 10000, 50000], [100, 50, 18, 25, 29, 24, 35, 27, 9, 25, 19, 23, 18, 20, 22, 24])"
   ]
  },
  {
   "cell_type": "code",
   "execution_count": null,
   "id": "b2a9a71e",
   "metadata": {},
   "outputs": [],
   "source": [
    "plt.figure(figsize=(10, 5))\n",
    "plt.plot(t_errors)\n",
    "plt.plot(s_errors)\n",
    "plt.title('model loss (Random Forest)')\n",
    "plt.ylabel('loss')\n",
    "plt.xlabel('tree depth')\n",
    "plt.legend(['train', 'test'], loc='upper right')\n",
    "plt.show()"
   ]
  },
  {
   "cell_type": "code",
   "execution_count": 42,
   "id": "0d43b56d",
   "metadata": {},
   "outputs": [
    {
     "name": "stderr",
     "output_type": "stream",
     "text": [
      "C:\\Users\\HP\\AppData\\Roaming\\Python\\Python39\\site-packages\\sklearn\\metrics\\_classification.py:1248: UndefinedMetricWarning: Precision is ill-defined and being set to 0.0 due to no predicted samples. Use `zero_division` parameter to control this behavior.\n",
      "  _warn_prf(average, modifier, msg_start, len(result))\n"
     ]
    },
    {
     "data": {
      "image/png": "[encoded data removed]",
      "text/plain": [
       "<Figure size 432x288 with 2 Axes>"
      ]
     },
     "metadata": {
      "needs_background": "light"
     },
     "output_type": "display_data"
    },
    {
     "data": {
      "image/png": "[encoded data removed]",
      "text/plain": [
       "<Figure size 432x288 with 2 Axes>"
      ]
     },
     "metadata": {
      "needs_background": "light"
     },
     "output_type": "display_data"
    },
    {
     "data": {
      "image/png": "[encoded data removed]",
      "text/plain": [
       "<Figure size 432x288 with 2 Axes>"
      ]
     },
     "metadata": {
      "needs_background": "light"
     },
     "output_type": "display_data"
    },
    {
     "data": {
      "image/png": "[encoded data removed]",
      "text/plain": [
       "<Figure size 432x288 with 2 Axes>"
      ]
     },
     "metadata": {
      "needs_background": "light"
     },
     "output_type": "display_data"
    },
    {
     "data": {
      "image/png": "[encoded data removed]",
      "text/plain": [
       "<Figure size 432x288 with 2 Axes>"
      ]
     },
     "metadata": {
      "needs_background": "light"
     },
     "output_type": "display_data"
    },
    {
     "data": {
      "image/png": "[encoded data removed]",
      "text/plain": [
       "<Figure size 432x288 with 2 Axes>"
      ]
     },
     "metadata": {
      "needs_background": "light"
     },
     "output_type": "display_data"
    },
    {
     "data": {
      "image/png": "[encoded data removed]",
      "text/plain": [
       "<Figure size 432x288 with 2 Axes>"
      ]
     },
     "metadata": {
      "needs_background": "light"
     },
     "output_type": "display_data"
    },
    {
     "data": {
      "image/png": "[encoded data removed]",
      "text/plain": [
       "<Figure size 432x288 with 2 Axes>"
      ]
     },
     "metadata": {
      "needs_background": "light"
     },
     "output_type": "display_data"
    },
    {
     "data": {
      "image/png": "[encoded data removed]",
      "text/plain": [
       "<Figure size 432x288 with 2 Axes>"
      ]
     },
     "metadata": {
      "needs_background": "light"
     },
     "output_type": "display_data"
    },
    {
     "data": {
      "image/png": "[encoded data removed]",
      "text/plain": [
       "<Figure size 432x288 with 2 Axes>"
      ]
     },
     "metadata": {
      "needs_background": "light"
     },
     "output_type": "display_data"
    },
    {
     "data": {
      "image/png": "[encoded data removed]",
      "text/plain": [
       "<Figure size 432x288 with 2 Axes>"
      ]
     },
     "metadata": {
      "needs_background": "light"
     },
     "output_type": "display_data"
    },
    {
     "data": {
      "image/png": "[encoded data removed]",
      "text/plain": [
       "<Figure size 432x288 with 2 Axes>"
      ]
     },
     "metadata": {
      "needs_background": "light"
     },
     "output_type": "display_data"
    },
    {
     "data": {
      "image/png": "[encoded data removed]",
      "text/plain": [
       "<Figure size 432x288 with 2 Axes>"
      ]
     },
     "metadata": {
      "needs_background": "light"
     },
     "output_type": "display_data"
    },
    {
     "data": {
      "image/png": "[encoded data removed]",
      "text/plain": [
       "<Figure size 432x288 with 2 Axes>"
      ]
     },
     "metadata": {
      "needs_background": "light"
     },
     "output_type": "display_data"
    },
    {
     "data": {
      "image/png": "[encoded data removed]",
      "text/plain": [
       "<Figure size 432x288 with 2 Axes>"
      ]
     },
     "metadata": {
      "needs_background": "light"
     },
     "output_type": "display_data"
    },
    {
     "data": {
      "image/png": "[encoded data removed]",
      "text/plain": [
       "<Figure size 432x288 with 2 Axes>"
      ]
     },
     "metadata": {
      "needs_background": "light"
     },
     "output_type": "display_data"
    },
    {
     "data": {
      "image/png": "[encoded data removed]",
      "text/plain": [
       "<Figure size 432x288 with 2 Axes>"
      ]
     },
     "metadata": {
      "needs_background": "light"
     },
     "output_type": "display_data"
    },
    {
     "data": {
      "image/png": "[encoded data removed]",
      "text/plain": [
       "<Figure size 432x288 with 2 Axes>"
      ]
     },
     "metadata": {
      "needs_background": "light"
     },
     "output_type": "display_data"
    },
    {
     "name": "stdout",
     "output_type": "stream",
     "text": [
      "[0.79381292 0.90376692 0.96706447 0.979972   0.99429295 0.99634642\n",
      " 0.99799987 0.99838656 0.99873325 0.99883992 0.99757317 0.99934662\n",
      " 0.99991999 0.99986666 0.99918661 0.99810654 0.97089139 0.97630509]\n",
      "[0.79035161 0.90379615 0.96611864 0.97855914 0.99099964 0.99271971\n",
      " 0.99411976 0.99455978 0.99483979 0.99459978 0.99307972 0.99523981\n",
      " 0.99571983 0.99547982 0.99455978 0.99347974 0.96971879 0.97471899]\n"
     ]
    }
   ],
   "source": [
    "m = 0\n",
    "t_acc = np.empty(18)\n",
    "s_acc = np.empty(18)\n",
    "for max_leaf_nodes, max_depth in zip([2, 5, 50, 100, 200, 250, 350 , 400, 450, 500, 550, 600, 800, 1000, 2000, 3000, 5000, 5000], [2, 100, 70, 35, 25, 43, 38, 30, 28, 23, 17, 25, 28, 22, 19, 17, 10, 11]):\n",
    "    acc_te, acc_tr, t, s, a, p, r, f, c, plot = get_mae(max_leaf_nodes, max_depth, train_data, test_data, train_label, test_label)\n",
    "    t_acc[m] = acc_tr\n",
    "    s_acc[m] = acc_te\n",
    "    m+=1\n",
    "print(t_acc)\n",
    "print(s_acc)\n",
    "#zip([5, 50, 100, 50000, 2000, 50, 500, 1000, 400, 5000, 1000, 2000, 1000, 5000, 10000, 50000], [100, 50, 18, 25, 29, 24, 35, 27, 9, 25, 19, 23, 18, 20, 22, 24])"
   ]
  },
  {
   "cell_type": "code",
   "execution_count": 44,
   "id": "42e096b6",
   "metadata": {},
   "outputs": [
    {
     "data": {
      "image/png": "[encoded data removed]",
      "text/plain": [
       "<Figure size 720x360 with 1 Axes>"
      ]
     },
     "metadata": {
      "needs_background": "light"
     },
     "output_type": "display_data"
    }
   ],
   "source": [
    "plt.figure(figsize=(10, 5))\n",
    "plt.plot(t_acc)\n",
    "plt.plot(s_acc)\n",
    "plt.title('model accuracy (Random Forest)')\n",
    "plt.ylabel('accuracy')\n",
    "plt.xlabel('tree depth')\n",
    "plt.legend(['train', 'test'], loc='upper left')\n",
    "plt.show()"
   ]
  },
  {
   "cell_type": "code",
   "execution_count": 46,
   "id": "804f6c60",
   "metadata": {},
   "outputs": [
    {
     "name": "stdout",
     "output_type": "stream",
     "text": [
      "-------------\n",
      "Random Forest\n",
      "-------------\n",
      "\n",
      "Train Accuracy: 0.9763050870058004\n",
      "Test Accuracy: 0.9747189887595504\n",
      "precision: 0.9673494220239303\n",
      "recall: 0.9101316542644533\n",
      "f1-score: 0.9378686590640976\n",
      "Confusion Matrix:\n",
      "[[19597   161]\n",
      " [  471  4770]]\n"
     ]
    }
   ],
   "source": [
    "print('-------------')\n",
    "print('Random Forest')\n",
    "print('-------------')\n",
    "print()\n",
    "print('Train Accuracy:',(t_acc[17]))\n",
    "print('Test Accuracy:',(s_acc[17]))\n",
    "\n",
    "print('precision:', p)\n",
    "print('recall:', r)\n",
    "print('f1-score:', f)\n",
    "print('Confusion Matrix:')\n",
    "print(c)"
   ]
  },
  {
   "cell_type": "code",
   "execution_count": 62,
   "id": "5a955546",
   "metadata": {},
   "outputs": [],
   "source": [
    "from sklearn.model_selection import GridSearchCV\n",
    "from sklearn.model_selection import RepeatedStratifiedKFold\n",
    "cv_method = RepeatedStratifiedKFold(n_splits=10,  n_repeats=3, random_state=42)\n",
    "\n",
    "\n",
    "def get_nb(train_data, test_data, train_label, test_label):\n",
    "    n = GaussianNB()\n",
    "    params_NB = {'var_smoothing': np.logspace(0,-9, num=50)}\n",
    "    gs_NB = GridSearchCV(estimator=n, \n",
    "                 param_grid=params_NB, \n",
    "                 cv=cv_method, \n",
    "                 verbose=1, \n",
    "                 scoring='accuracy')\n",
    "    \n",
    "    gs_NB.fit(train_data, train_label)\n",
    "    gs_NB.best_params_\n",
    "    \n",
    "    #n.fit(train_data, train_label)\n",
    "    pred_value = gs_NB.predict(test_data)\n",
    "    t_pred_value = gs_NB.predict(train_data)\n",
    "    mean_test = mean_absolute_error(test_label.astype(int), pred_value.astype(int))\n",
    "    mean_train = mean_absolute_error(train_label.astype(int), t_pred_value.astype(int))\n",
    "    return mean_train, mean_test\n"
   ]
  },
  {
   "cell_type": "code",
   "execution_count": 63,
   "id": "3cdfff79",
   "metadata": {},
   "outputs": [
    {
     "name": "stdout",
     "output_type": "stream",
     "text": [
      "Fitting 30 folds for each of 50 candidates, totalling 1500 fits\n",
      "Fitting 30 folds for each of 50 candidates, totalling 1500 fits\n",
      "Fitting 30 folds for each of 50 candidates, totalling 1500 fits\n",
      "Fitting 30 folds for each of 50 candidates, totalling 1500 fits\n",
      "Fitting 30 folds for each of 50 candidates, totalling 1500 fits\n",
      "Fitting 30 folds for each of 50 candidates, totalling 1500 fits\n",
      "Fitting 30 folds for each of 50 candidates, totalling 1500 fits\n",
      "Fitting 30 folds for each of 50 candidates, totalling 1500 fits\n",
      "Fitting 30 folds for each of 50 candidates, totalling 1500 fits\n",
      "Fitting 30 folds for each of 50 candidates, totalling 1500 fits\n",
      "Fitting 30 folds for each of 50 candidates, totalling 1500 fits\n",
      "Fitting 30 folds for each of 50 candidates, totalling 1500 fits\n",
      "Fitting 30 folds for each of 50 candidates, totalling 1500 fits\n",
      "Fitting 30 folds for each of 50 candidates, totalling 1500 fits\n",
      "Fitting 30 folds for each of 50 candidates, totalling 1500 fits\n",
      "Fitting 30 folds for each of 50 candidates, totalling 1500 fits\n",
      "Fitting 30 folds for each of 50 candidates, totalling 1500 fits\n",
      "Fitting 30 folds for each of 50 candidates, totalling 1500 fits\n",
      "[0.81852123 0.81852123 0.81852123 0.81852123 0.81852123 0.81852123\n",
      " 0.81852123 0.81852123 0.81852123 0.81852123 0.81852123 0.81852123\n",
      " 0.81852123 0.81852123 0.81852123 0.81852123 0.81852123 0.81852123]\n",
      "[0.81267251 0.81267251 0.81267251 0.81267251 0.81267251 0.81267251\n",
      " 0.81267251 0.81267251 0.81267251 0.81267251 0.81267251 0.81267251\n",
      " 0.81267251 0.81267251 0.81267251 0.81267251 0.81267251 0.81267251]\n"
     ]
    }
   ],
   "source": [
    "i = 0\n",
    "t_loss = np.empty(18)\n",
    "s_loss = np.empty(18)\n",
    "for i in range(18):\n",
    "    t, s = get_nb(train_data, test_data, train_label, test_label)\n",
    "    t_loss[i] = 1-t\n",
    "    s_loss[i] = 1-s\n",
    "    i+=1\n",
    "print(t_loss)\n",
    "print(s_loss)\n",
    "#zip([5, 50, 100, 50000, 2000, 50, 500, 1000, 400, 5000, 1000, 2000, 1000, 5000, 10000, 50000], [100, 50, 18, 25, 29, 24, 35, 27, 9, 25, 19, 23, 18, 20, 22, 24])"
   ]
  },
  {
   "cell_type": "code",
   "execution_count": 64,
   "id": "068cbb4d",
   "metadata": {},
   "outputs": [
    {
     "data": {
      "image/png": "[encoded data removed]",
      "text/plain": [
       "<Figure size 720x360 with 1 Axes>"
      ]
     },
     "metadata": {
      "needs_background": "light"
     },
     "output_type": "display_data"
    }
   ],
   "source": [
    "plt.figure(figsize=(10, 5))\n",
    "plt.plot(t_loss)\n",
    "plt.plot(s_loss)\n",
    "plt.title('model accuracy (Naive Bayes)')\n",
    "plt.ylabel('accuracy')\n",
    "plt.xlabel('cv')\n",
    "plt.legend(['train', 'test'], loc='upper right')\n",
    "# plt.ylim([0.175,0.20])\n",
    "plt.show()"
   ]
  },
  {
   "cell_type": "code",
   "execution_count": 54,
   "id": "fd583e2e",
   "metadata": {},
   "outputs": [
    {
     "name": "stdout",
     "output_type": "stream",
     "text": [
      "Pipeline(steps=[('pca', PCA()), ('estimator', GaussianNB())])\n",
      "Pipeline(steps=[('pca', PCA()), ('estimator', GaussianNB())])\n",
      "Pipeline(steps=[('pca', PCA()), ('estimator', GaussianNB())])\n",
      "Pipeline(steps=[('pca', PCA()), ('estimator', GaussianNB())])\n",
      "Pipeline(steps=[('pca', PCA()), ('estimator', GaussianNB())])\n",
      "Pipeline(steps=[('pca', PCA()), ('estimator', GaussianNB())])\n",
      "Pipeline(steps=[('pca', PCA()), ('estimator', GaussianNB())])\n",
      "Pipeline(steps=[('pca', PCA()), ('estimator', GaussianNB())])\n",
      "Pipeline(steps=[('pca', PCA()), ('estimator', GaussianNB())])\n",
      "Pipeline(steps=[('pca', PCA()), ('estimator', GaussianNB())])\n",
      "Pipeline(steps=[('pca', PCA()), ('estimator', GaussianNB())])\n",
      "Pipeline(steps=[('pca', PCA()), ('estimator', GaussianNB())])\n",
      "Pipeline(steps=[('pca', PCA()), ('estimator', GaussianNB())])\n",
      "Pipeline(steps=[('pca', PCA()), ('estimator', GaussianNB())])\n",
      "Pipeline(steps=[('pca', PCA()), ('estimator', GaussianNB())])\n",
      "Pipeline(steps=[('pca', PCA()), ('estimator', GaussianNB())])\n",
      "Pipeline(steps=[('pca', PCA()), ('estimator', GaussianNB())])\n",
      "Pipeline(steps=[('pca', PCA()), ('estimator', GaussianNB())])\n"
     ]
    },
    {
     "data": {
      "image/png": "[encoded data removed]",
      "text/plain": [
       "<Figure size 432x288 with 2 Axes>"
      ]
     },
     "metadata": {
      "needs_background": "light"
     },
     "output_type": "display_data"
    }
   ],
   "source": [
    "from sklearn.pipeline import Pipeline\n",
    "from sklearn.decomposition import PCA\n",
    "\n",
    "pipe = Pipeline(steps=[\n",
    "                    ('pca', PCA()),\n",
    "                    ('estimator', GaussianNB()),\n",
    "                    ])\n",
    "    \n",
    "parameters = {'estimator__var_smoothing': [1e-9, 1e-10, 1e-11]}\n",
    "j=0\n",
    "n1 = np.empty(18)\n",
    "n2 = np.empty(18)\n",
    "for i in range(10, 28):\n",
    "    Bayes = GridSearchCV(pipe, parameters, scoring='accuracy', cv=i).fit(train_data, train_label)\n",
    "    print(Bayes.best_estimator_)\n",
    "    #print('best score:')\n",
    "    #print(Bayes.best_score_)\n",
    "    test_predict = Bayes.best_estimator_.predict(test_data)\n",
    "    train_predict = Bayes.best_estimator_.predict(train_data)\n",
    "    n1[j] = accuracy_score(train_label, train_predict)\n",
    "    n2[j] = accuracy_score(test_label, test_predict)\n",
    "    precision = precision_score(test_label, test_predict, pos_label=True)\n",
    "    recall = recall_score(test_label, test_predict, pos_label=True)\n",
    "    fscore = f1_score(test_label, test_predict, pos_label=True)\n",
    "    confusion = confusion_matrix(test_label, test_predict)\n",
    "    j+=1\n",
    "plot_confusion_matrix(test_label, test_predict, classes=[False, True], title='Random Forest' + ' Confusion Matrix').show()"
   ]
  },
  {
   "cell_type": "code",
   "execution_count": 57,
   "id": "ac15ab13",
   "metadata": {},
   "outputs": [
    {
     "data": {
      "image/png": "[encoded data removed]",
      "text/plain": [
       "<Figure size 720x360 with 1 Axes>"
      ]
     },
     "metadata": {
      "needs_background": "light"
     },
     "output_type": "display_data"
    }
   ],
   "source": [
    "plt.figure(figsize=(10, 5))\n",
    "plt.plot(n1)\n",
    "plt.plot(n2)\n",
    "plt.title('model loss (Naive Bayes)')\n",
    "plt.ylabel('loss')\n",
    "plt.xlabel('cv')\n",
    "plt.legend(['train', 'test'], loc='upper right')\n",
    "plt.show()"
   ]
  },
  {
   "cell_type": "code",
   "execution_count": null,
   "id": "0add76cf",
   "metadata": {},
   "outputs": [],
   "source": []
  },
  {
   "cell_type": "code",
   "execution_count": null,
   "id": "a7da51a1",
   "metadata": {},
   "outputs": [],
   "source": []
  },
  {
   "cell_type": "code",
   "execution_count": null,
   "id": "adc4a635",
   "metadata": {},
   "outputs": [],
   "source": []
  },
  {
   "cell_type": "code",
   "execution_count": null,
   "id": "0df13cd1",
   "metadata": {},
   "outputs": [],
   "source": []
  },
  {
   "cell_type": "code",
   "execution_count": null,
   "id": "56bd7e53",
   "metadata": {},
   "outputs": [],
   "source": []
  },
  {
   "cell_type": "code",
   "execution_count": null,
   "id": "3b032422",
   "metadata": {},
   "outputs": [],
   "source": []
  }
 ],
 "metadata": {
  "kernelspec": {
   "display_name": "Python 3 (ipykernel)",
   "language": "python",
   "name": "python3"
  },
  "language_info": {
   "codemirror_mode": {
    "name": "ipython",
    "version": 3
   },
   "file_extension": ".py",
   "mimetype": "text/x-python",
   "name": "python",
   "nbconvert_exporter": "python",
   "pygments_lexer": "ipython3",
   "version": "3.9.6"
  }
 },
 "nbformat": 4,
 "nbformat_minor": 5
}
